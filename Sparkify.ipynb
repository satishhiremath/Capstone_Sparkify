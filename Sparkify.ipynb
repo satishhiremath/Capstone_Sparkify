{
 "cells": [
  {
   "cell_type": "markdown",
   "metadata": {},
   "source": [
    "# Sparkify Project Workspace\n",
    "This workspace contains a tiny subset (128MB) of the full dataset available (12GB). Feel free to use this workspace to build your project, or to explore a smaller subset with Spark before deploying your cluster on the cloud. Instructions for setting up your Spark cluster is included in the last lesson of the Extracurricular Spark Course content.\n",
    "\n",
    "You can follow the steps below to guide your data analysis and model building portion of this project."
   ]
  },
  {
   "cell_type": "code",
   "execution_count": 50,
   "metadata": {},
   "outputs": [],
   "source": [
    "# import libraries\n",
    "from pyspark.sql import SparkSession\n",
    "from pyspark.sql.functions import col, lit, udf, isnan, count, when, desc, sort_array, asc, avg, lag, floor\n",
    "from pyspark.sql.types import IntegerType, DateType\n",
    "from pyspark.sql.window import Window\n",
    "from pyspark.sql.functions import sum as Fsum\n",
    "from pyspark.ml.feature import VectorAssembler\n",
    "from pyspark.ml.feature import MinMaxScaler\n",
    "from pyspark.sql.types import DoubleType\n",
    "from pyspark.ml.tuning import CrossValidator, ParamGridBuilder\n",
    "import datetime\n",
    "from pyspark.ml import Pipeline \n",
    "from pyspark.ml.classification import LogisticRegression, RandomForestClassifier, LinearSVC, GBTClassifier\n",
    "from pyspark.ml.evaluation import BinaryClassificationEvaluator\n",
    "from pyspark.mllib.evaluation import MulticlassMetrics\n",
    "import pyspark.sql.functions as psqf\n",
    "import seaborn as sns\n",
    "import matplotlib.pyplot as plt"
   ]
  },
  {
   "cell_type": "markdown",
   "metadata": {},
   "source": [
    "# Load and Clean Dataset"
   ]
  },
  {
   "cell_type": "markdown",
   "metadata": {},
   "source": [
    "In this workspace, the mini-dataset file is mini_sparkify_event_data.json. Load and clean the dataset, checking for invalid or missing data - for example, records without userids or sessionids."
   ]
  },
  {
   "cell_type": "code",
   "execution_count": 51,
   "metadata": {},
   "outputs": [],
   "source": [
    "# Create a Spark session\n",
    "spark = SparkSession.builder \\\n",
    "    .master(\"local\") \\\n",
    "    .appName(\"Identify Features\") \\\n",
    "    .getOrCreate()\n",
    "\n",
    "df = spark.read.json('mini_sparkify_event_data.json')"
   ]
  },
  {
   "cell_type": "code",
   "execution_count": 52,
   "metadata": {},
   "outputs": [
    {
     "name": "stdout",
     "output_type": "stream",
     "text": [
      "+--------------+---------+---------+------+-------------+--------+---------+-----+---------------+------+--------+-------------+---------+---------+------+-------------+--------------------+------+\n",
      "|        artist|     auth|firstName|gender|itemInSession|lastName|   length|level|       location|method|    page| registration|sessionId|     song|status|           ts|           userAgent|userId|\n",
      "+--------------+---------+---------+------+-------------+--------+---------+-----+---------------+------+--------+-------------+---------+---------+------+-------------+--------------------+------+\n",
      "|Martha Tilston|Logged In|    Colin|     M|           50| Freeman|277.89016| paid|Bakersfield, CA|   PUT|NextSong|1538173362000|       29|Rockpools|   200|1538352117000|Mozilla/5.0 (Wind...|    30|\n",
      "+--------------+---------+---------+------+-------------+--------+---------+-----+---------------+------+--------+-------------+---------+---------+------+-------------+--------------------+------+\n",
      "only showing top 1 row\n",
      "\n"
     ]
    }
   ],
   "source": [
    "df.show(1)"
   ]
  },
  {
   "cell_type": "code",
   "execution_count": 53,
   "metadata": {},
   "outputs": [
    {
     "name": "stdout",
     "output_type": "stream",
     "text": [
      "root\n",
      " |-- artist: string (nullable = true)\n",
      " |-- auth: string (nullable = true)\n",
      " |-- firstName: string (nullable = true)\n",
      " |-- gender: string (nullable = true)\n",
      " |-- itemInSession: long (nullable = true)\n",
      " |-- lastName: string (nullable = true)\n",
      " |-- length: double (nullable = true)\n",
      " |-- level: string (nullable = true)\n",
      " |-- location: string (nullable = true)\n",
      " |-- method: string (nullable = true)\n",
      " |-- page: string (nullable = true)\n",
      " |-- registration: long (nullable = true)\n",
      " |-- sessionId: long (nullable = true)\n",
      " |-- song: string (nullable = true)\n",
      " |-- status: long (nullable = true)\n",
      " |-- ts: long (nullable = true)\n",
      " |-- userAgent: string (nullable = true)\n",
      " |-- userId: string (nullable = true)\n",
      "\n"
     ]
    }
   ],
   "source": [
    "# Print schema for future reference\n",
    "df.printSchema()"
   ]
  },
  {
   "cell_type": "code",
   "execution_count": 54,
   "metadata": {},
   "outputs": [
    {
     "name": "stdout",
     "output_type": "stream",
     "text": [
      "[Row(artist='Martha Tilston', auth='Logged In', firstName='Colin', gender='M', itemInSession=50, lastName='Freeman', length=277.89016, level='paid', location='Bakersfield, CA', method='PUT', page='NextSong', registration=1538173362000, sessionId=29, song='Rockpools', status=200, ts=1538352117000, userAgent='Mozilla/5.0 (Windows NT 6.1; WOW64; rv:31.0) Gecko/20100101 Firefox/31.0', userId='30')]\n"
     ]
    }
   ],
   "source": [
    "print(df.take(1))"
   ]
  },
  {
   "cell_type": "code",
   "execution_count": 55,
   "metadata": {},
   "outputs": [],
   "source": [
    "total = float(df.count())\n",
    "missing = float(df.filter(df.registration.isNull()).count())\n",
    "percentage = missing *100.0 /total"
   ]
  },
  {
   "cell_type": "markdown",
   "metadata": {},
   "source": [
    "#### Dropping Missing Items : -"
   ]
  },
  {
   "cell_type": "code",
   "execution_count": 56,
   "metadata": {},
   "outputs": [
    {
     "name": "stdout",
     "output_type": "stream",
     "text": [
      "286500 18\n",
      "Missing Value in Columns :- \n",
      "artist : 58392\n",
      "auth : 0\n",
      "firstName : 8346\n",
      "gender : 8346\n",
      "itemInSession : 0\n",
      "lastName : 8346\n",
      "length : 58392\n",
      "level : 0\n",
      "location : 8346\n",
      "method : 0\n",
      "page : 0\n",
      "registration : 8346\n",
      "sessionId : 0\n",
      "song : 58392\n",
      "status : 0\n",
      "ts : 0\n",
      "userAgent : 8346\n",
      "userId : 0\n"
     ]
    }
   ],
   "source": [
    "print(df.count(), len(df.columns))\n",
    "print(\"Missing Value in Columns :- \")\n",
    "for colName, dtype in df.dtypes:\n",
    "    print(colName,':', df.filter(df[colName].isNull()).count())"
   ]
  },
  {
   "cell_type": "markdown",
   "metadata": {},
   "source": [
    "#### We can see from above ther are missing items:\n",
    "\n",
    "1. userID, itemInSession, sessionID, time stamp,authorization, level, method and page has zero missing values.\n",
    "\n",
    "2. Artist, Length and Song have same number of missing values\n",
    "\n",
    "3. User Agent, registration, first name, last name, location and gender have the same number of missing values."
   ]
  },
  {
   "cell_type": "code",
   "execution_count": 57,
   "metadata": {},
   "outputs": [
    {
     "name": "stdout",
     "output_type": "stream",
     "text": [
      "+------+----------+---------+------+-------------+--------+------+-----+--------+------+----+------------+---------+----+------+-------------+---------+------+\n",
      "|artist|auth      |firstName|gender|itemInSession|lastName|length|level|location|method|page|registration|sessionId|song|status|ts           |userAgent|userId|\n",
      "+------+----------+---------+------+-------------+--------+------+-----+--------+------+----+------------+---------+----+------+-------------+---------+------+\n",
      "|null  |Logged Out|null     |null  |100          |null    |null  |free |null    |GET   |Home|null        |8        |null|200   |1538355745000|null     |      |\n",
      "+------+----------+---------+------+-------------+--------+------+-----+--------+------+----+------------+---------+----+------+-------------+---------+------+\n",
      "only showing top 1 row\n",
      "\n",
      "Number of rows with missing registration:  8346\n",
      "Number of rows with missing registration, name, gender, location and user agent:  8346\n"
     ]
    }
   ],
   "source": [
    "df.filter(df.registration.isNull()).show(1,False)\n",
    "\n",
    "print(\"Number of rows with missing registration: \", df.filter(df.registration.isNull()).count())\n",
    "print(\"Number of rows with missing registration, name, gender, location and user agent: \",\\\n",
    "      df.filter(df.registration.isNull() & df.firstName.isNull() & df.lastName.isNull() &\n",
    "               df.gender.isNull() & df.location.isNull() & df.userAgent.isNull()).count()) \n",
    "\n",
    "df = df.filter(df.registration.isNotNull())"
   ]
  },
  {
   "cell_type": "code",
   "execution_count": 58,
   "metadata": {},
   "outputs": [
    {
     "name": "stdout",
     "output_type": "stream",
     "text": [
      "Missing percentage:- 2.913089005235602\n"
     ]
    }
   ],
   "source": [
    "print (\"Missing percentage:-\",percentage)"
   ]
  },
  {
   "cell_type": "markdown",
   "metadata": {},
   "source": [
    "The above registration are missing (8346) at the same row, where the users are not logged in. So, We can't identify these users individually and they constitute just ~3% of the records we drop the rows where registration is 0.\n",
    "\n",
    "Total Records : 286500\n",
    "\n",
    "Missing Registration: 8346\n",
    "\n",
    "Missing Registration : 2.91%\n",
    "\n",
    "### Columns to Drop\n",
    "\n",
    "1. First name and last name are not useful\n",
    "2. Auth has no variability\n",
    "3. Uniquely identify a user by user id, so registration number isn't needed\n",
    "4. All activities of a user will be collected without factoring in timestamp"
   ]
  },
  {
   "cell_type": "code",
   "execution_count": 59,
   "metadata": {},
   "outputs": [
    {
     "name": "stdout",
     "output_type": "stream",
     "text": [
      "Number of rows with missing artist:  50046\n",
      "Number of rows with missing artist, song, song length in same row:  50046\n",
      "Next song page with missing song:  0\n",
      "Song on a different page:  0\n"
     ]
    }
   ],
   "source": [
    "print(\"Number of rows with missing artist: \", df.filter(df.artist.isNull()).count())\n",
    "print(\"Number of rows with missing artist, song, song length in same row: \",\\\n",
    "      df.filter(df.artist.isNull() & df.song.isNull() & df.length.isNull()).count()) \n",
    "\n",
    "print(\"Next song page with missing song: \", df.filter(df.song.isNull() & (df.page==\"NextSong\")).count()) \n",
    "print(\"Song on a different page: \", df.filter(df.song.isNotNull() & (df.page!=\"NextSong\")).count())"
   ]
  },
  {
   "cell_type": "code",
   "execution_count": 60,
   "metadata": {},
   "outputs": [
    {
     "name": "stdout",
     "output_type": "stream",
     "text": [
      "Missing Registration Percentage:- 17.468062827225133\n"
     ]
    }
   ],
   "source": [
    "print (\"Missing Registration Percentage:-\",float(df.filter(df.artist.isNull() & df.song.isNull() & df.length.isNull()).count()*100.0)/total)"
   ]
  },
  {
   "cell_type": "markdown",
   "metadata": {},
   "source": [
    "There are song which has missing values as length and artist we find,\n",
    "\n",
    "When song is null, length is not defined as well as artist. Song is only present on the page nextSong.\n",
    "\n",
    "Total Records : 286500\n",
    "\n",
    "Missing Song (not a song page): 58392\n",
    "\n",
    "Missing Registration : 17.47%\n",
    "\n",
    "17.47% rows do not contain songs but these other pages can be relevant in determining churn so we will use it later, instead of dropping it.\n"
   ]
  },
  {
   "cell_type": "code",
   "execution_count": 61,
   "metadata": {},
   "outputs": [
    {
     "name": "stdout",
     "output_type": "stream",
     "text": [
      "+-----+-------------------------+------+\n",
      "|level|page                     |count |\n",
      "+-----+-------------------------+------+\n",
      "|free |About                    |93    |\n",
      "|paid |About                    |402   |\n",
      "|free |Add Friend               |893   |\n",
      "|paid |Add Friend               |3384  |\n",
      "|paid |Add to Playlist          |5354  |\n",
      "|free |Add to Playlist          |1172  |\n",
      "|paid |Cancel                   |31    |\n",
      "|free |Cancel                   |21    |\n",
      "|free |Cancellation Confirmation|21    |\n",
      "|paid |Cancellation Confirmation|31    |\n",
      "|paid |Downgrade                |2055  |\n",
      "|free |Error                    |53    |\n",
      "|paid |Error                    |199   |\n",
      "|paid |Help                     |1132  |\n",
      "|free |Help                     |322   |\n",
      "|paid |Home                     |7461  |\n",
      "|free |Home                     |2621  |\n",
      "|free |Logout                   |922   |\n",
      "|paid |Logout                   |2304  |\n",
      "|free |NextSong                 |41991 |\n",
      "|paid |NextSong                 |186117|\n",
      "|paid |Roll Advert              |246   |\n",
      "|free |Roll Advert              |3687  |\n",
      "|free |Save Settings            |85    |\n",
      "|paid |Save Settings            |225   |\n",
      "|paid |Settings                 |1154  |\n",
      "|free |Settings                 |360   |\n",
      "|paid |Submit Downgrade         |63    |\n",
      "|free |Submit Upgrade           |159   |\n",
      "|paid |Thumbs Down              |1933  |\n",
      "|free |Thumbs Down              |613   |\n",
      "|free |Thumbs Up                |2209  |\n",
      "|paid |Thumbs Up                |10342 |\n",
      "|free |Upgrade                  |499   |\n",
      "+-----+-------------------------+------+\n",
      "\n",
      "+-------------------------+------+------+\n",
      "|page                     |method|count |\n",
      "+-------------------------+------+------+\n",
      "|About                    |GET   |495   |\n",
      "|Add Friend               |PUT   |4277  |\n",
      "|Add to Playlist          |PUT   |6526  |\n",
      "|Cancel                   |PUT   |52    |\n",
      "|Cancellation Confirmation|GET   |52    |\n",
      "|Downgrade                |GET   |2055  |\n",
      "|Error                    |GET   |252   |\n",
      "|Help                     |GET   |1454  |\n",
      "|Home                     |GET   |10082 |\n",
      "|Logout                   |PUT   |3226  |\n",
      "|NextSong                 |PUT   |228108|\n",
      "|Roll Advert              |GET   |3933  |\n",
      "|Save Settings            |PUT   |310   |\n",
      "|Settings                 |GET   |1514  |\n",
      "|Submit Downgrade         |PUT   |63    |\n",
      "|Submit Upgrade           |PUT   |159   |\n",
      "|Thumbs Down              |PUT   |2546  |\n",
      "|Thumbs Up                |PUT   |12551 |\n",
      "|Upgrade                  |GET   |499   |\n",
      "+-------------------------+------+------+\n",
      "\n"
     ]
    }
   ],
   "source": [
    "df.groupby('level','page').count().sort('page').show(100,False)\n",
    "df.groupby('page','method').count().sort('page','method').show(100,False)"
   ]
  },
  {
   "cell_type": "markdown",
   "metadata": {},
   "source": [
    "#### Looking into above table :\n",
    "\n",
    "Free users can reach upgrade and submit upgrade page\n",
    "Paid users can reach downgrade and submit downgrade page\n",
    "\n",
    "The remaining pages are common. A page has either GET or PUT method not both.\n"
   ]
  },
  {
   "cell_type": "markdown",
   "metadata": {},
   "source": [
    "# Exploratory Data Analysis\n",
    "When you're working with the full dataset, perform EDA by loading a small subset of the data and doing basic manipulations within Spark. In this workspace, you are already provided a small subset of data you can explore.\n",
    "\n",
    "### Define Churn\n",
    "\n",
    "Once you've done some preliminary analysis, create a column `Churn` to use as the label for your model. I suggest using the `Cancellation Confirmation` events to define your churn, which happen for both paid and free users. As a bonus task, you can also look into the `Downgrade` events.\n",
    "\n",
    "### Explore Data\n",
    "Once you've defined churn, perform some exploratory data analysis to observe the behavior for users who stayed vs users who churned. You can start by exploring aggregates on these two groups of users, observing how much of a specific action they experienced per a certain time unit or number of songs played."
   ]
  },
  {
   "cell_type": "code",
   "execution_count": 62,
   "metadata": {
    "scrolled": true
   },
   "outputs": [
    {
     "name": "stdout",
     "output_type": "stream",
     "text": [
      "root\n",
      " |-- artist: string (nullable = true)\n",
      " |-- auth: string (nullable = true)\n",
      " |-- firstName: string (nullable = true)\n",
      " |-- gender: string (nullable = true)\n",
      " |-- itemInSession: long (nullable = true)\n",
      " |-- lastName: string (nullable = true)\n",
      " |-- length: double (nullable = true)\n",
      " |-- level: string (nullable = true)\n",
      " |-- location: string (nullable = true)\n",
      " |-- method: string (nullable = true)\n",
      " |-- page: string (nullable = true)\n",
      " |-- registration: long (nullable = true)\n",
      " |-- sessionId: long (nullable = true)\n",
      " |-- song: string (nullable = true)\n",
      " |-- status: long (nullable = true)\n",
      " |-- ts: long (nullable = true)\n",
      " |-- userAgent: string (nullable = true)\n",
      " |-- userId: string (nullable = true)\n",
      "\n"
     ]
    }
   ],
   "source": [
    "# Observation\n",
    "df.printSchema()"
   ]
  },
  {
   "cell_type": "code",
   "execution_count": 63,
   "metadata": {
    "scrolled": true
   },
   "outputs": [
    {
     "data": {
      "text/plain": [
       "[Row(artist='Martha Tilston', auth='Logged In', firstName='Colin', gender='M', itemInSession=50, lastName='Freeman', length=277.89016, level='paid', location='Bakersfield, CA', method='PUT', page='NextSong', registration=1538173362000, sessionId=29, song='Rockpools', status=200, ts=1538352117000, userAgent='Mozilla/5.0 (Windows NT 6.1; WOW64; rv:31.0) Gecko/20100101 Firefox/31.0', userId='30')]"
      ]
     },
     "execution_count": 63,
     "metadata": {},
     "output_type": "execute_result"
    }
   ],
   "source": [
    "# Look at 2 rows for sample\n",
    "df.take(1)"
   ]
  },
  {
   "cell_type": "code",
   "execution_count": 64,
   "metadata": {},
   "outputs": [
    {
     "name": "stdout",
     "output_type": "stream",
     "text": [
      "+-----+\n",
      "|level|\n",
      "+-----+\n",
      "| free|\n",
      "| paid|\n",
      "+-----+\n",
      "\n"
     ]
    }
   ],
   "source": [
    "df.select('level').distinct().show()"
   ]
  },
  {
   "cell_type": "code",
   "execution_count": 65,
   "metadata": {},
   "outputs": [
    {
     "name": "stdout",
     "output_type": "stream",
     "text": [
      "+-----+-----------+\n",
      "|level|level_count|\n",
      "+-----+-----------+\n",
      "| free|      55721|\n",
      "| paid|     222433|\n",
      "+-----+-----------+\n",
      "\n"
     ]
    }
   ],
   "source": [
    "level_counts= df.groupby('level').agg({'level':'count'}).withColumnRenamed(\"count(level)\", \"level_count\")\n",
    "level_counts.show()"
   ]
  },
  {
   "cell_type": "code",
   "execution_count": 66,
   "metadata": {},
   "outputs": [
    {
     "name": "stdout",
     "output_type": "stream",
     "text": [
      "+--------------------+----------+\n",
      "|                page|page_count|\n",
      "+--------------------+----------+\n",
      "|              Cancel|        52|\n",
      "|    Submit Downgrade|        63|\n",
      "|         Thumbs Down|      2546|\n",
      "|                Home|     10082|\n",
      "|           Downgrade|      2055|\n",
      "|         Roll Advert|      3933|\n",
      "|              Logout|      3226|\n",
      "|       Save Settings|       310|\n",
      "|Cancellation Conf...|        52|\n",
      "|               About|       495|\n",
      "|            Settings|      1514|\n",
      "|     Add to Playlist|      6526|\n",
      "|          Add Friend|      4277|\n",
      "|            NextSong|    228108|\n",
      "|           Thumbs Up|     12551|\n",
      "|                Help|      1454|\n",
      "|             Upgrade|       499|\n",
      "|               Error|       252|\n",
      "|      Submit Upgrade|       159|\n",
      "+--------------------+----------+\n",
      "\n"
     ]
    }
   ],
   "source": [
    "page_counts= df.groupby('page').agg({'page':'count'}).withColumnRenamed(\"count(page)\", \"page_count\")\n",
    "page_counts.show()"
   ]
  },
  {
   "cell_type": "code",
   "execution_count": 67,
   "metadata": {},
   "outputs": [
    {
     "name": "stdout",
     "output_type": "stream",
     "text": [
      "+-----+-----------+\n",
      "|level|level_count|\n",
      "+-----+-----------+\n",
      "| free|      55721|\n",
      "| paid|     222433|\n",
      "+-----+-----------+\n",
      "\n"
     ]
    }
   ],
   "source": [
    "level_counts= df.groupby('level').agg({'level':'count'}).withColumnRenamed(\"count(level)\", \"level_count\")\n",
    "level_counts.show()"
   ]
  },
  {
   "cell_type": "code",
   "execution_count": 68,
   "metadata": {},
   "outputs": [
    {
     "name": "stdout",
     "output_type": "stream",
     "text": [
      "+------+-------------------------+---------+--------+-------------+---------+\n",
      "|userID|page                     |firstName|lastName|ts           |auth     |\n",
      "+------+-------------------------+---------+--------+-------------+---------+\n",
      "|18    |Cancel                   |Adriel   |Mendoza |1538943740000|Logged In|\n",
      "|18    |Cancellation Confirmation|Adriel   |Mendoza |1538943990000|Cancelled|\n",
      "|32    |Cancel                   |Diego    |Mckee   |1539033031000|Logged In|\n",
      "|32    |Cancellation Confirmation|Diego    |Mckee   |1539033046000|Cancelled|\n",
      "|125   |Cancel                   |Mason    |Hart    |1539318918000|Logged In|\n",
      "+------+-------------------------+---------+--------+-------------+---------+\n",
      "only showing top 5 rows\n",
      "\n"
     ]
    }
   ],
   "source": [
    "#Cancel and Cancellation Confirmation samples in the dataset\n",
    "cancel_events = df.filter(psqf.col('page').isin(['Cancel','Cancellation Confirmation'])).select(['userID','page', 'firstName', 'lastName','ts', 'auth'])\n",
    "cancel_events.show(5, False)"
   ]
  },
  {
   "cell_type": "code",
   "execution_count": 69,
   "metadata": {},
   "outputs": [],
   "source": [
    "churn_event = df.groupby('userId').agg(psqf.collect_list('page').alias('pages'))\n",
    "# define 1 as churned, 0 otherwise\n",
    "churn_f = psqf.udf(lambda x: 1 if 'Cancel' in set(x) else 0)\n",
    "churn_event = churn_event.withColumn(\"label\", churn_f(churn_event.pages)).drop('pages')"
   ]
  },
  {
   "cell_type": "code",
   "execution_count": 70,
   "metadata": {},
   "outputs": [
    {
     "name": "stdout",
     "output_type": "stream",
     "text": [
      "+------+-----+--------------------+---------+---------+------+-------------+---------+---------+-----+--------------------+------+-----------+-------------+---------+--------------------+------+-------------+--------------------+\n",
      "|userId|label|              artist|     auth|firstName|gender|itemInSession| lastName|   length|level|            location|method|       page| registration|sessionId|                song|status|           ts|           userAgent|\n",
      "+------+-----+--------------------+---------+---------+------+-------------+---------+---------+-----+--------------------+------+-----------+-------------+---------+--------------------+------+-------------+--------------------+\n",
      "|100010|    0|Sleeping With Sirens|Logged In| Darianna|     F|            0|Carpenter|202.97098| free|Bridgeport-Stamfo...|   PUT|   NextSong|1538016340000|       31|Captain Tyin Knot...|   200|1539003534000|\"Mozilla/5.0 (iPh...|\n",
      "|100010|    0|Francesca Battist...|Logged In| Darianna|     F|            1|Carpenter|196.54485| free|Bridgeport-Stamfo...|   PUT|   NextSong|1538016340000|       31|Beautiful_ Beauti...|   200|1539003736000|\"Mozilla/5.0 (iPh...|\n",
      "|100010|    0|              Brutha|Logged In| Darianna|     F|            2|Carpenter|263.13098| free|Bridgeport-Stamfo...|   PUT|   NextSong|1538016340000|       31|          She's Gone|   200|1539003932000|\"Mozilla/5.0 (iPh...|\n",
      "|100010|    0|                null|Logged In| Darianna|     F|            3|Carpenter|     null| free|Bridgeport-Stamfo...|   PUT|  Thumbs Up|1538016340000|       31|                null|   307|1539003933000|\"Mozilla/5.0 (iPh...|\n",
      "|100010|    0|         Josh Ritter|Logged In| Darianna|     F|            4|Carpenter|316.23791| free|Bridgeport-Stamfo...|   PUT|   NextSong|1538016340000|       31|      Folk Bloodbath|   200|1539004195000|\"Mozilla/5.0 (iPh...|\n",
      "|100010|    0|               LMFAO|Logged In| Darianna|     F|            5|Carpenter|183.74485| free|Bridgeport-Stamfo...|   PUT|   NextSong|1538016340000|       31|                 Yes|   200|1539004511000|\"Mozilla/5.0 (iPh...|\n",
      "|100010|    0|         OneRepublic|Logged In| Darianna|     F|            6|Carpenter|224.67873| free|Bridgeport-Stamfo...|   PUT|   NextSong|1538016340000|       31|             Secrets|   200|1539004694000|\"Mozilla/5.0 (iPh...|\n",
      "|100010|    0|       Dwight Yoakam|Logged In| Darianna|     F|            7|Carpenter| 239.3073| free|Bridgeport-Stamfo...|   PUT|   NextSong|1538016340000|       31|      You're The One|   200|1539004918000|\"Mozilla/5.0 (iPh...|\n",
      "|100010|    0|                null|Logged In| Darianna|     F|            8|Carpenter|     null| free|Bridgeport-Stamfo...|   GET|Roll Advert|1538016340000|       31|                null|   200|1539004961000|\"Mozilla/5.0 (iPh...|\n",
      "|100010|    0|      The Chordettes|Logged In| Darianna|     F|            9|Carpenter|142.41914| free|Bridgeport-Stamfo...|   PUT|   NextSong|1538016340000|       31|          Mr Sandman|   200|1539005157000|\"Mozilla/5.0 (iPh...|\n",
      "|100010|    0|Coko featuring Ki...|Logged In| Darianna|     F|           10|Carpenter| 249.3122| free|Bridgeport-Stamfo...|   PUT|   NextSong|1538016340000|       31|           I Get Joy|   200|1539005299000|\"Mozilla/5.0 (iPh...|\n",
      "|100010|    0|            The Cure|Logged In| Darianna|     F|           11|Carpenter| 52.27057| free|Bridgeport-Stamfo...|   PUT|   NextSong|1538016340000|       31|     The Final Sound|   200|1539005548000|\"Mozilla/5.0 (iPh...|\n",
      "|100010|    0|                null|Logged In| Darianna|     F|           12|Carpenter|     null| free|Bridgeport-Stamfo...|   GET|Roll Advert|1538016340000|       31|                null|   200|1539005571000|\"Mozilla/5.0 (iPh...|\n",
      "|100010|    0|Kid Cudi Vs Crookers|Logged In| Darianna|     F|           13|Carpenter|162.97751| free|Bridgeport-Stamfo...|   PUT|   NextSong|1538016340000|       31|        Day 'N' Nite|   200|1539005600000|\"Mozilla/5.0 (iPh...|\n",
      "|100010|    0|                null|Logged In| Darianna|     F|           14|Carpenter|     null| free|Bridgeport-Stamfo...|   PUT|  Thumbs Up|1538016340000|       31|                null|   307|1539005601000|\"Mozilla/5.0 (iPh...|\n",
      "|100010|    0|            Yeasayer|Logged In| Darianna|     F|           15|Carpenter|323.44771| free|Bridgeport-Stamfo...|   PUT|   NextSong|1538016340000|       31|                2080|   200|1539005762000|\"Mozilla/5.0 (iPh...|\n",
      "|100010|    0|             Ben Lee|Logged In| Darianna|     F|           16|Carpenter|245.78567| free|Bridgeport-Stamfo...|   PUT|   NextSong|1538016340000|       31|        Ache For You|   200|1539006085000|\"Mozilla/5.0 (iPh...|\n",
      "|100010|    0|                null|Logged In| Darianna|     F|           17|Carpenter|     null| free|Bridgeport-Stamfo...|   GET|Roll Advert|1538016340000|       31|                null|   200|1539006103000|\"Mozilla/5.0 (iPh...|\n",
      "|100010|    0|  ? & The Mysterians|Logged In| Darianna|     F|           18|Carpenter|128.10404| free|Bridgeport-Stamfo...|   PUT|   NextSong|1538016340000|       31|    Just Like A Rose|   200|1539006330000|\"Mozilla/5.0 (iPh...|\n",
      "|100010|    0|                null|Logged In| Darianna|     F|           19|Carpenter|     null| free|Bridgeport-Stamfo...|   GET|Roll Advert|1538016340000|       31|                null|   200|1539006331000|\"Mozilla/5.0 (iPh...|\n",
      "+------+-----+--------------------+---------+---------+------+-------------+---------+---------+-----+--------------------+------+-----------+-------------+---------+--------------------+------+-------------+--------------------+\n",
      "only showing top 20 rows\n",
      "\n"
     ]
    }
   ],
   "source": [
    "labeled_df  = churn_event.join(df, 'userId')\n",
    "labeled_df.show()"
   ]
  },
  {
   "cell_type": "code",
   "execution_count": 71,
   "metadata": {},
   "outputs": [
    {
     "data": {
      "image/png": "[encoded data removed]",
      "text/plain": [
       "<matplotlib.figure.Figure at 0x7f68e6af90b8>"
      ]
     },
     "metadata": {
      "needs_background": "light"
     },
     "output_type": "display_data"
    }
   ],
   "source": [
    "use_level_count = labeled_df.groupby('userId', 'Level', 'label').count()\n",
    "use_level_count_pd  = use_level_count.select(\"userId\", \"Level\", 'label').toPandas()\n",
    "use_level_count_pd[['Level', 'label']].groupby(['Level', 'label']).agg({'label':'count'}).unstack().plot(kind='bar');\n",
    "plt.title('User Level Comparison')\n",
    "plt.ylabel('User Count');"
   ]
  },
  {
   "cell_type": "markdown",
   "metadata": {},
   "source": [
    "#### In above figure shows the comparison with free user vs paid user\n",
    "a. Paid users listen songs which length is longer than free users.\n",
    "\n",
    "b. Paid users are less although they are more likely to churn than free users.\n",
    "\n",
    "c. Users those leave the app who have lesser Thumbs Up to Thumbs Down ratio than those who are continuously using.\n",
    "\n",
    "Note: churned - 1 & active - 0"
   ]
  },
  {
   "cell_type": "code",
   "execution_count": 72,
   "metadata": {},
   "outputs": [
    {
     "data": {
      "text/plain": [
       "225"
      ]
     },
     "execution_count": 72,
     "metadata": {},
     "output_type": "execute_result"
    }
   ],
   "source": [
    "# Get number of users\n",
    "df.select(\"userId\").dropDuplicates().count()"
   ]
  },
  {
   "cell_type": "code",
   "execution_count": 73,
   "metadata": {},
   "outputs": [
    {
     "data": {
      "text/plain": [
       "2312"
      ]
     },
     "execution_count": 73,
     "metadata": {},
     "output_type": "execute_result"
    }
   ],
   "source": [
    "# Get number of sessions\n",
    "df.select(\"sessionId\").dropDuplicates().count()"
   ]
  },
  {
   "cell_type": "code",
   "execution_count": 74,
   "metadata": {},
   "outputs": [],
   "source": [
    "churn = udf(lambda x: int(x==\"Cancellation Confirmation\"), IntegerType())\n",
    "downgrade_churn = udf(lambda x: int(x==\"Submit Downgrade\"), IntegerType())\n",
    "\n",
    "df = df.withColumn(\"downgraded\", downgrade_churn(\"page\")).withColumn(\"cancelled\", churn(\"page\"))"
   ]
  },
  {
   "cell_type": "code",
   "execution_count": 75,
   "metadata": {},
   "outputs": [
    {
     "name": "stdout",
     "output_type": "stream",
     "text": [
      "104 52\n"
     ]
    }
   ],
   "source": [
    "cancel_reg_ids  = [vv['userID'] for vv in cancel_events.select('userID').collect()]\n",
    "print(len(cancel_reg_ids), len(set(cancel_reg_ids)))"
   ]
  },
  {
   "cell_type": "code",
   "execution_count": 76,
   "metadata": {},
   "outputs": [
    {
     "name": "stdout",
     "output_type": "stream",
     "text": [
      "+------+---------+---------+----------+-------------+---------+\n",
      "|userID|page     |firstName|lastName  |ts           |auth     |\n",
      "+------+---------+---------+----------+-------------+---------+\n",
      "|54    |Downgrade|Alexi    |Warren    |1538354749000|Logged In|\n",
      "|95    |Downgrade|Faigy    |Howe      |1538373286000|Logged In|\n",
      "|95    |Downgrade|Faigy    |Howe      |1538392612000|Logged In|\n",
      "|131   |Downgrade|Kael     |Baker     |1538393618000|Logged In|\n",
      "|95    |Downgrade|Faigy    |Howe      |1538393664000|Logged In|\n",
      "|142   |Downgrade|Grant    |Flores    |1538394855000|Logged In|\n",
      "|142   |Downgrade|Grant    |Flores    |1538395054000|Logged In|\n",
      "|120   |Downgrade|Elizabeth|Washington|1538396771000|Logged In|\n",
      "|15    |Downgrade|Panav    |Myers     |1538398230000|Logged In|\n",
      "|142   |Downgrade|Grant    |Flores    |1538398648000|Logged In|\n",
      "|51    |Downgrade|Ethan    |Johnson   |1538404204000|Logged In|\n",
      "|51    |Downgrade|Ethan    |Johnson   |1538407188000|Logged In|\n",
      "|15    |Downgrade|Panav    |Myers     |1538407887000|Logged In|\n",
      "|15    |Downgrade|Panav    |Myers     |1538407906000|Logged In|\n",
      "|54    |Downgrade|Alexi    |Warren    |1538408749000|Logged In|\n",
      "|124   |Downgrade|Nicole   |Beck      |1538411637000|Logged In|\n",
      "|54    |Downgrade|Alexi    |Warren    |1538418351000|Logged In|\n",
      "|124   |Downgrade|Nicole   |Beck      |1538422416000|Logged In|\n",
      "|131   |Downgrade|Kael     |Baker     |1538432737000|Logged In|\n",
      "|51    |Downgrade|Ethan    |Johnson   |1538440504000|Logged In|\n",
      "|51    |Downgrade|Ethan    |Johnson   |1538440518000|Logged In|\n",
      "|51    |Downgrade|Ethan    |Johnson   |1538448207000|Logged In|\n",
      "|77    |Downgrade|Autumn   |Martin    |1538471417000|Logged In|\n",
      "|51    |Downgrade|Ethan    |Johnson   |1538471918000|Logged In|\n",
      "|127   |Downgrade|Aurora   |Humphrey  |1538476564000|Logged In|\n",
      "|127   |Downgrade|Aurora   |Humphrey  |1538479701000|Logged In|\n",
      "|51    |Downgrade|Ethan    |Johnson   |1538502933000|Logged In|\n",
      "|51    |Downgrade|Ethan    |Johnson   |1538507852000|Logged In|\n",
      "|38    |Downgrade|Calvin   |Marshall  |1538516444000|Logged In|\n",
      "|105   |Downgrade|Alexander|Garcia    |1538539977000|Logged In|\n",
      "|101   |Downgrade|Alex     |Hogan     |1538541301000|Logged In|\n",
      "|101   |Downgrade|Alex     |Hogan     |1538548628000|Logged In|\n",
      "|105   |Downgrade|Alexander|Garcia    |1538559422000|Logged In|\n",
      "|124   |Downgrade|Nicole   |Beck      |1538571552000|Logged In|\n",
      "|15    |Downgrade|Panav    |Myers     |1538580898000|Logged In|\n",
      "|113   |Downgrade|Madelyn  |Henson    |1538592523000|Logged In|\n",
      "|124   |Downgrade|Nicole   |Beck      |1538602229000|Logged In|\n",
      "|124   |Downgrade|Nicole   |Beck      |1538603467000|Logged In|\n",
      "|100   |Downgrade|Colin    |Larson    |1538618142000|Logged In|\n",
      "|54    |Downgrade|Alexi    |Warren    |1538630914000|Logged In|\n",
      "|58    |Downgrade|Erick    |Brooks    |1538636648000|Logged In|\n",
      "|58    |Downgrade|Erick    |Brooks    |1538642055000|Logged In|\n",
      "|124   |Downgrade|Nicole   |Beck      |1538658275000|Logged In|\n",
      "|75    |Downgrade|Amberlynn|Olson     |1538660966000|Logged In|\n",
      "|105   |Downgrade|Alexander|Garcia    |1538662603000|Logged In|\n",
      "|124   |Downgrade|Nicole   |Beck      |1538671429000|Logged In|\n",
      "|15    |Downgrade|Panav    |Myers     |1538674231000|Logged In|\n",
      "|15    |Downgrade|Panav    |Myers     |1538676105000|Logged In|\n",
      "|141   |Downgrade|Kaylenn  |Jenkins   |1538677833000|Logged In|\n",
      "|49    |Downgrade|Christan |Hopkins   |1538682285000|Logged In|\n",
      "|124   |Downgrade|Nicole   |Beck      |1538688846000|Logged In|\n",
      "|124   |Downgrade|Nicole   |Beck      |1538689251000|Logged In|\n",
      "|101   |Downgrade|Alex     |Hogan     |1538699812000|Logged In|\n",
      "|101   |Downgrade|Alex     |Hogan     |1538704232000|Logged In|\n",
      "|54    |Downgrade|Alexi    |Warren    |1538718829000|Logged In|\n",
      "|115   |Downgrade|Lina     |Francis   |1538720551000|Logged In|\n",
      "|124   |Downgrade|Nicole   |Beck      |1538726395000|Logged In|\n",
      "|105   |Downgrade|Alexander|Garcia    |1538729791000|Logged In|\n",
      "|54    |Downgrade|Alexi    |Warren    |1538730233000|Logged In|\n",
      "|115   |Downgrade|Lina     |Francis   |1538731583000|Logged In|\n",
      "|59    |Downgrade|Jaleel   |Maldonado |1538736844000|Logged In|\n",
      "|105   |Downgrade|Alexander|Garcia    |1538742669000|Logged In|\n",
      "|58    |Downgrade|Erick    |Brooks    |1538743518000|Logged In|\n",
      "|59    |Downgrade|Jaleel   |Maldonado |1538744806000|Logged In|\n",
      "|105   |Downgrade|Alexander|Garcia    |1538747640000|Logged In|\n",
      "|18    |Downgrade|Adriel   |Mendoza   |1538749555000|Logged In|\n",
      "|124   |Downgrade|Nicole   |Beck      |1538750379000|Logged In|\n",
      "|51    |Downgrade|Ethan    |Johnson   |1538754336000|Logged In|\n",
      "|115   |Downgrade|Lina     |Francis   |1538759859000|Logged In|\n",
      "|115   |Downgrade|Lina     |Francis   |1538768851000|Logged In|\n",
      "|54    |Downgrade|Alexi    |Warren    |1538779867000|Logged In|\n",
      "|115   |Downgrade|Lina     |Francis   |1538781886000|Logged In|\n",
      "|51    |Downgrade|Ethan    |Johnson   |1538782689000|Logged In|\n",
      "|92    |Downgrade|Riley    |Taylor    |1538790891000|Logged In|\n",
      "|115   |Downgrade|Lina     |Francis   |1538796726000|Logged In|\n",
      "|140   |Downgrade|Lucero   |Reed      |1538801289000|Logged In|\n",
      "|115   |Downgrade|Lina     |Francis   |1538821438000|Logged In|\n",
      "|115   |Downgrade|Lina     |Francis   |1538825304000|Logged In|\n",
      "|115   |Downgrade|Lina     |Francis   |1538832855000|Logged In|\n",
      "|115   |Downgrade|Lina     |Francis   |1538832860000|Logged In|\n",
      "|142   |Downgrade|Grant    |Flores    |1538834789000|Logged In|\n",
      "|141   |Downgrade|Kaylenn  |Jenkins   |1538835478000|Logged In|\n",
      "|115   |Downgrade|Lina     |Francis   |1538840175000|Logged In|\n",
      "|54    |Downgrade|Alexi    |Warren    |1538840578000|Logged In|\n",
      "|115   |Downgrade|Lina     |Francis   |1538846076000|Logged In|\n",
      "|6     |Downgrade|Bryson   |Roberson  |1538846532000|Logged In|\n",
      "|142   |Downgrade|Grant    |Flores    |1538846752000|Logged In|\n",
      "|142   |Downgrade|Grant    |Flores    |1538846820000|Logged In|\n",
      "|15    |Downgrade|Panav    |Myers     |1538847652000|Logged In|\n",
      "|115   |Downgrade|Lina     |Francis   |1538847978000|Logged In|\n",
      "|54    |Downgrade|Alexi    |Warren    |1538848384000|Logged In|\n",
      "|15    |Downgrade|Panav    |Myers     |1538854403000|Logged In|\n",
      "|115   |Downgrade|Lina     |Francis   |1538860208000|Logged In|\n",
      "|6     |Downgrade|Bryson   |Roberson  |1538860654000|Logged In|\n",
      "|15    |Downgrade|Panav    |Myers     |1538861063000|Logged In|\n",
      "|115   |Downgrade|Lina     |Francis   |1538877034000|Logged In|\n",
      "|129   |Downgrade|Davis    |Wang      |1538896047000|Logged In|\n",
      "|142   |Downgrade|Grant    |Flores    |1538896277000|Logged In|\n",
      "|142   |Downgrade|Grant    |Flores    |1538900684000|Logged In|\n",
      "|9     |Downgrade|Micah    |Long      |1538903551000|Logged In|\n",
      "|129   |Downgrade|Davis    |Wang      |1538911363000|Logged In|\n",
      "|129   |Downgrade|Davis    |Wang      |1538923089000|Logged In|\n",
      "|9     |Downgrade|Micah    |Long      |1538924565000|Logged In|\n",
      "|42    |Downgrade|Dillyn   |Richardson|1538926570000|Logged In|\n",
      "|42    |Downgrade|Dillyn   |Richardson|1538930863000|Logged In|\n",
      "|58    |Downgrade|Erick    |Brooks    |1538930932000|Logged In|\n",
      "|58    |Downgrade|Erick    |Brooks    |1538931819000|Logged In|\n",
      "|18    |Downgrade|Adriel   |Mendoza   |1538935253000|Logged In|\n",
      "|9     |Downgrade|Micah    |Long      |1538936534000|Logged In|\n",
      "|42    |Downgrade|Dillyn   |Richardson|1538938954000|Logged In|\n",
      "|18    |Downgrade|Adriel   |Mendoza   |1538943739000|Logged In|\n",
      "|42    |Downgrade|Dillyn   |Richardson|1538945621000|Logged In|\n",
      "|30    |Downgrade|Colin    |Freeman   |1538953526000|Logged In|\n",
      "|101   |Downgrade|Alex     |Hogan     |1538963597000|Logged In|\n",
      "|2     |Downgrade|Natalee  |Charles   |1538976932000|Logged In|\n",
      "|30    |Downgrade|Colin    |Freeman   |1538994201000|Logged In|\n",
      "|30    |Downgrade|Colin    |Freeman   |1538995453000|Logged In|\n",
      "|20    |Downgrade|Destiny  |Herring   |1538997355000|Logged In|\n",
      "|51    |Downgrade|Ethan    |Johnson   |1538998271000|Logged In|\n",
      "|51    |Downgrade|Ethan    |Johnson   |1538998305000|Logged In|\n",
      "|95    |Downgrade|Faigy    |Howe      |1538998993000|Logged In|\n",
      "|2     |Downgrade|Natalee  |Charles   |1539003245000|Logged In|\n",
      "|42    |Downgrade|Dillyn   |Richardson|1539006840000|Logged In|\n",
      "|129   |Downgrade|Davis    |Wang      |1539010046000|Logged In|\n",
      "|120   |Downgrade|Elizabeth|Washington|1539010638000|Logged In|\n",
      "|120   |Downgrade|Elizabeth|Washington|1539010646000|Logged In|\n",
      "|2     |Downgrade|Natalee  |Charles   |1539011575000|Logged In|\n",
      "|15    |Downgrade|Panav    |Myers     |1539013559000|Logged In|\n",
      "|15    |Downgrade|Panav    |Myers     |1539013617000|Logged In|\n",
      "|15    |Downgrade|Panav    |Myers     |1539017296000|Logged In|\n",
      "|12    |Downgrade|Sophia   |Perry     |1539019797000|Logged In|\n",
      "|15    |Downgrade|Panav    |Myers     |1539020220000|Logged In|\n",
      "|42    |Downgrade|Dillyn   |Richardson|1539023654000|Logged In|\n",
      "|42    |Downgrade|Dillyn   |Richardson|1539024255000|Logged In|\n",
      "|2     |Downgrade|Natalee  |Charles   |1539024983000|Logged In|\n",
      "|2     |Downgrade|Natalee  |Charles   |1539028806000|Logged In|\n",
      "|124   |Downgrade|Nicole   |Beck      |1539029954000|Logged In|\n",
      "|32    |Downgrade|Diego    |Mckee     |1539030302000|Logged In|\n",
      "|32    |Downgrade|Diego    |Mckee     |1539033030000|Logged In|\n",
      "|15    |Downgrade|Panav    |Myers     |1539033631000|Logged In|\n",
      "|120   |Downgrade|Elizabeth|Washington|1539036744000|Logged In|\n",
      "|127   |Downgrade|Aurora   |Humphrey  |1539040808000|Logged In|\n",
      "|95    |Downgrade|Faigy    |Howe      |1539041095000|Logged In|\n",
      "|124   |Downgrade|Nicole   |Beck      |1539041330000|Logged In|\n",
      "|58    |Downgrade|Erick    |Brooks    |1539041644000|Logged In|\n",
      "|124   |Downgrade|Nicole   |Beck      |1539041720000|Logged In|\n",
      "|12    |Downgrade|Sophia   |Perry     |1539044571000|Logged In|\n",
      "|2     |Downgrade|Natalee  |Charles   |1539052721000|Logged In|\n",
      "|29    |Downgrade|Kaleb    |Thompson  |1539071852000|Logged In|\n",
      "|39    |Downgrade|Payton   |Campbell  |1539089716000|Logged In|\n",
      "|58    |Downgrade|Erick    |Brooks    |1539092901000|Logged In|\n",
      "|62    |Downgrade|Saul     |Johnson   |1539095515000|Logged In|\n",
      "|54    |Downgrade|Alexi    |Warren    |1539099486000|Logged In|\n",
      "|101   |Downgrade|Alex     |Hogan     |1539102907000|Logged In|\n",
      "|100   |Downgrade|Colin    |Larson    |1539114063000|Logged In|\n",
      "|100   |Downgrade|Colin    |Larson    |1539114506000|Logged In|\n",
      "|19    |Downgrade|Isabella |Randall   |1539115776000|Logged In|\n",
      "|19    |Downgrade|Isabella |Randall   |1539116700000|Logged In|\n",
      "|101   |Downgrade|Alex     |Hogan     |1539118744000|Logged In|\n",
      "|101   |Downgrade|Alex     |Hogan     |1539118909000|Logged In|\n",
      "|109   |Downgrade|Casey    |Ramirez   |1539121062000|Logged In|\n",
      "|109   |Downgrade|Casey    |Ramirez   |1539122293000|Logged In|\n",
      "|109   |Downgrade|Casey    |Ramirez   |1539122500000|Logged In|\n",
      "|101   |Downgrade|Alex     |Hogan     |1539129258000|Logged In|\n",
      "|100   |Downgrade|Colin    |Larson    |1539129551000|Logged In|\n",
      "|100   |Downgrade|Colin    |Larson    |1539129788000|Logged In|\n",
      "|54    |Downgrade|Alexi    |Warren    |1539132494000|Logged In|\n",
      "|101   |Downgrade|Alex     |Hogan     |1539135879000|Logged In|\n",
      "|101   |Downgrade|Alex     |Hogan     |1539136016000|Logged In|\n",
      "|101   |Downgrade|Alex     |Hogan     |1539136605000|Logged In|\n",
      "|100   |Downgrade|Colin    |Larson    |1539136946000|Logged In|\n",
      "|39    |Downgrade|Payton   |Campbell  |1539141885000|Logged In|\n",
      "|77    |Downgrade|Autumn   |Martin    |1539143191000|Logged In|\n",
      "|12    |Downgrade|Sophia   |Perry     |1539144046000|Logged In|\n",
      "|140   |Downgrade|Lucero   |Reed      |1539147377000|Logged In|\n",
      "|77    |Downgrade|Autumn   |Martin    |1539149526000|Logged In|\n",
      "|101   |Downgrade|Alex     |Hogan     |1539154923000|Logged In|\n",
      "|140   |Downgrade|Lucero   |Reed      |1539155289000|Logged In|\n",
      "|142   |Downgrade|Grant    |Flores    |1539160720000|Logged In|\n",
      "|61    |Downgrade|Parker   |Williams  |1539161532000|Logged In|\n",
      "|95    |Downgrade|Faigy    |Howe      |1539161781000|Logged In|\n",
      "|95    |Downgrade|Faigy    |Howe      |1539161797000|Logged In|\n",
      "|95    |Downgrade|Faigy    |Howe      |1539168830000|Logged In|\n",
      "|61    |Downgrade|Parker   |Williams  |1539170891000|Logged In|\n",
      "|17    |Downgrade|Kayla    |Johnson   |1539171080000|Logged In|\n",
      "|131   |Downgrade|Kael     |Baker     |1539174018000|Logged In|\n",
      "|140   |Downgrade|Lucero   |Reed      |1539176418000|Logged In|\n",
      "|95    |Downgrade|Faigy    |Howe      |1539177808000|Logged In|\n",
      "|33    |Downgrade|Deegan   |Robinson  |1539181854000|Logged In|\n",
      "|95    |Downgrade|Faigy    |Howe      |1539183933000|Logged In|\n",
      "|6     |Downgrade|Bryson   |Roberson  |1539185358000|Logged In|\n",
      "|65    |Downgrade|Spencer  |Gonzalez  |1539188942000|Logged In|\n",
      "|42    |Downgrade|Dillyn   |Richardson|1539189120000|Logged In|\n",
      "|6     |Downgrade|Bryson   |Roberson  |1539190534000|Logged In|\n",
      "|6     |Downgrade|Bryson   |Roberson  |1539193018000|Logged In|\n",
      "|101   |Downgrade|Alex     |Hogan     |1539195974000|Logged In|\n",
      "|65    |Downgrade|Spencer  |Gonzalez  |1539196056000|Logged In|\n",
      "|17    |Downgrade|Kayla    |Johnson   |1539196195000|Logged In|\n",
      "|140   |Downgrade|Lucero   |Reed      |1539197311000|Logged In|\n",
      "|100   |Downgrade|Colin    |Larson    |1539197897000|Logged In|\n",
      "|81    |Downgrade|Oliver   |Gilbert   |1539198701000|Logged In|\n",
      "|101   |Downgrade|Alex     |Hogan     |1539200476000|Logged In|\n",
      "|61    |Downgrade|Parker   |Williams  |1539200721000|Logged In|\n",
      "|17    |Downgrade|Kayla    |Johnson   |1539204767000|Logged In|\n",
      "|140   |Downgrade|Lucero   |Reed      |1539207016000|Logged In|\n",
      "|120   |Downgrade|Elizabeth|Washington|1539210426000|Logged In|\n",
      "|142   |Downgrade|Grant    |Flores    |1539211414000|Logged In|\n",
      "|51    |Downgrade|Ethan    |Johnson   |1539212680000|Logged In|\n",
      "|54    |Downgrade|Alexi    |Warren    |1539215080000|Logged In|\n",
      "|85    |Downgrade|Brayden  |Thomas    |1539216604000|Logged In|\n",
      "|85    |Downgrade|Brayden  |Thomas    |1539220825000|Logged In|\n",
      "|17    |Downgrade|Kayla    |Johnson   |1539221809000|Logged In|\n",
      "|142   |Downgrade|Grant    |Flores    |1539222044000|Logged In|\n",
      "|120   |Downgrade|Elizabeth|Washington|1539222995000|Logged In|\n",
      "|61    |Downgrade|Parker   |Williams  |1539225402000|Logged In|\n",
      "|81    |Downgrade|Oliver   |Gilbert   |1539225986000|Logged In|\n",
      "|81    |Downgrade|Oliver   |Gilbert   |1539226266000|Logged In|\n",
      "|54    |Downgrade|Alexi    |Warren    |1539234164000|Logged In|\n",
      "|17    |Downgrade|Kayla    |Johnson   |1539239457000|Logged In|\n",
      "|11    |Downgrade|Zoe      |Patel     |1539239741000|Logged In|\n",
      "|101   |Downgrade|Alex     |Hogan     |1539243974000|Logged In|\n",
      "|61    |Downgrade|Parker   |Williams  |1539244187000|Logged In|\n",
      "|101   |Downgrade|Alex     |Hogan     |1539253069000|Logged In|\n",
      "|51    |Downgrade|Ethan    |Johnson   |1539263189000|Logged In|\n",
      "|81    |Downgrade|Oliver   |Gilbert   |1539264336000|Logged In|\n",
      "+------+---------+---------+----------+-------------+---------+\n",
      "only showing top 225 rows\n",
      "\n"
     ]
    }
   ],
   "source": [
    "#customer who downgraded\n",
    "downgrade_events = df.filter(psqf.col('page').isin(['Downgrade']))\n",
    "downgrade_events.select(['userID','page', 'firstName', 'lastName','ts', 'auth']).show(225, False)"
   ]
  },
  {
   "cell_type": "code",
   "execution_count": 77,
   "metadata": {},
   "outputs": [
    {
     "name": "stdout",
     "output_type": "stream",
     "text": [
      "2055 154\n"
     ]
    }
   ],
   "source": [
    "downgrade_reg_ids = [vv['userID'] for vv in downgrade_events.select('userID').collect()]\n",
    "print(len(downgrade_reg_ids), len(set(downgrade_reg_ids)))"
   ]
  },
  {
   "cell_type": "code",
   "execution_count": 78,
   "metadata": {},
   "outputs": [
    {
     "name": "stdout",
     "output_type": "stream",
     "text": [
      "+-------+------------------+------------------+\n",
      "|summary|            userId|        downgraded|\n",
      "+-------+------------------+------------------+\n",
      "|  count|               225|               225|\n",
      "|   mean|65391.013333333336|              0.28|\n",
      "| stddev|105396.47791907164|0.5876709477736184|\n",
      "|    min|                10|                 0|\n",
      "|    max|                99|                 3|\n",
      "+-------+------------------+------------------+\n",
      "\n"
     ]
    }
   ],
   "source": [
    "#Distribution of users downgrades\n",
    "df.select(['userId', 'downgraded'])\\\n",
    "    .groupBy('userId').sum()\\\n",
    "    .withColumnRenamed('sum(downgraded)', 'downgraded').describe().show()"
   ]
  },
  {
   "cell_type": "code",
   "execution_count": 79,
   "metadata": {},
   "outputs": [
    {
     "name": "stdout",
     "output_type": "stream",
     "text": [
      "+-------+------------------+------------------+\n",
      "|summary|            userId|         cancelled|\n",
      "+-------+------------------+------------------+\n",
      "|  count|               225|               225|\n",
      "|   mean|65391.013333333336|0.2311111111111111|\n",
      "| stddev|105396.47791907164|0.4224832108996327|\n",
      "|    min|                10|                 0|\n",
      "|    max|                99|                 1|\n",
      "+-------+------------------+------------------+\n",
      "\n"
     ]
    }
   ],
   "source": [
    "#Distribution of users cancellations\n",
    "df.select(['userId','cancelled'])\\\n",
    "    .groupBy('userId').sum()\\\n",
    "    .withColumnRenamed('sum(cancelled)', 'cancelled').describe().show()"
   ]
  },
  {
   "cell_type": "code",
   "execution_count": 80,
   "metadata": {},
   "outputs": [
    {
     "name": "stdout",
     "output_type": "stream",
     "text": [
      "22.73% of customers who downgraded have also cancelled their subscriptions\n"
     ]
    }
   ],
   "source": [
    "# How much users those who downgraded and cancell their subscriptions% \n",
    "down_cancel = set(cancel_reg_ids).intersection((set(downgrade_reg_ids)))\n",
    "print('{0:.2f}% of customers who downgraded have also cancelled their subscriptions'.format(\n",
    "    100*(len(down_cancel))/len(set(downgrade_reg_ids))))"
   ]
  },
  {
   "cell_type": "code",
   "execution_count": 81,
   "metadata": {},
   "outputs": [],
   "source": [
    "windowvalue = Window.partitionBy(\"userId\").orderBy(desc(\"ts\")).rangeBetween(Window.unboundedPreceding, 0)\n",
    "df = df.withColumn(\"churn_phase\", Fsum(\"cancelled\").over(windowvalue))\\\n",
    "    .withColumn(\"downgrade_phase\", Fsum(\"downgraded\").over(windowvalue))"
   ]
  },
  {
   "cell_type": "code",
   "execution_count": 82,
   "metadata": {},
   "outputs": [],
   "source": [
    "get_day = udf(lambda x: datetime.datetime.fromtimestamp(x/1000), DateType())"
   ]
  },
  {
   "cell_type": "code",
   "execution_count": 83,
   "metadata": {},
   "outputs": [],
   "source": [
    "song=udf(lambda x : int(x=='NextSong'), IntegerType())\n",
    "home_visit=udf(lambda x : int(x=='Home'), IntegerType())\n",
    "df = df.withColumn('date', get_day(col('ts')))"
   ]
  },
  {
   "cell_type": "code",
   "execution_count": 84,
   "metadata": {},
   "outputs": [
    {
     "name": "stdout",
     "output_type": "stream",
     "text": [
      "+------------------+\n",
      "|   avg(songPlayed)|\n",
      "+------------------+\n",
      "|0.8112072039942939|\n",
      "+------------------+\n",
      "\n",
      "+------------------+\n",
      "|   avg(songPlayed)|\n",
      "+------------------+\n",
      "|0.8217840456084702|\n",
      "+------------------+\n",
      "\n"
     ]
    }
   ],
   "source": [
    "#Difference in number of songs played between users who churned or not\n",
    "df.filter(col('churn_phase')==1).withColumn('songPlayed', song(col('page'))).agg({'songPlayed':'mean'}).show()\n",
    "df.filter(col('churn_phase')==0).withColumn('songPlayed', song(col('page'))).agg({'songPlayed':'mean'}).show()"
   ]
  },
  {
   "cell_type": "code",
   "execution_count": 85,
   "metadata": {},
   "outputs": [
    {
     "name": "stdout",
     "output_type": "stream",
     "text": [
      "+----------------------+\n",
      "|avg(count(songPeriod))|\n",
      "+----------------------+\n",
      "|      22.6612702366127|\n",
      "+----------------------+\n",
      "\n",
      "+----------------------+\n",
      "|avg(count(songPeriod))|\n",
      "+----------------------+\n",
      "|     23.79175974187143|\n",
      "+----------------------+\n",
      "\n"
     ]
    }
   ],
   "source": [
    "#number of songs played between home visits\n",
    "cusum = df.filter((df.page == 'NextSong') | (df.page == 'Home')) \\\n",
    "    .select('userID', 'page', 'ts', 'churn_phase') \\\n",
    "    .withColumn('homevisit', home_visit(col('page'))) \\\n",
    "    .withColumn('songPeriod', Fsum('homevisit').over(windowvalue))\n",
    "\n",
    "cusum.filter((cusum.churn_phase == 1) &(cusum.page == 'NextSong')) \\\n",
    "    .groupBy('userID', 'songPeriod') \\\n",
    "    .agg({'songPeriod':'count'}) \\\n",
    "    .agg({'count(songPeriod)':'avg'}).show()\n",
    "\n",
    "cusum.filter((cusum.churn_phase == 0) &(cusum.page == 'NextSong')) \\\n",
    "    .groupBy('userID', 'songPeriod') \\\n",
    "    .agg({'songPeriod':'count'}) \\\n",
    "    .agg({'count(songPeriod)':'avg'}).show()"
   ]
  },
  {
   "cell_type": "code",
   "execution_count": 86,
   "metadata": {},
   "outputs": [],
   "source": [
    "days = lambda i: i * 86400 \n",
    "daywindow = Window.partitionBy('userId', 'date').orderBy(desc('ts')).rangeBetween(Window.unboundedPreceding, 0)\n",
    "get_day = udf(lambda x: datetime.datetime.fromtimestamp(x/1000), DateType())"
   ]
  },
  {
   "cell_type": "code",
   "execution_count": 87,
   "metadata": {},
   "outputs": [
    {
     "name": "stdout",
     "output_type": "stream",
     "text": [
      "+-------+-----------------+-----------------+\n",
      "|summary|           userId|            count|\n",
      "+-------+-----------------+-----------------+\n",
      "|  count|              499|              499|\n",
      "|   mean|77394.81563126252|72.93386773547094|\n",
      "| stddev|90869.89716037885|71.24764235703725|\n",
      "|    min|           100001|                1|\n",
      "|    max|               87|              346|\n",
      "+-------+-----------------+-----------------+\n",
      "\n",
      "+-------+------------------+-----------------+\n",
      "|summary|            userId|            count|\n",
      "+-------+------------------+-----------------+\n",
      "|  count|              2559|             2559|\n",
      "|   mean| 64501.19812426729|74.91754591637358|\n",
      "| stddev|114144.74005493976|74.02407951472078|\n",
      "|    min|                10|                1|\n",
      "|    max|                99|              360|\n",
      "+-------+------------------+-----------------+\n",
      "\n"
     ]
    }
   ],
   "source": [
    "#Number of songs played daily\n",
    "df.filter((df.page=='NextSong')&(col('churn_phase')==1)).select('userId', 'page', 'ts')\\\n",
    "    .withColumn('date', get_day(col('ts'))).groupBy('userId', 'date').count().describe().show()\n",
    "\n",
    "df.filter((df.page=='NextSong')&(col('churn_phase')==0)).select('userId', 'page', 'ts')\\\n",
    "    .withColumn('date', get_day(col('ts'))).groupBy('userId', 'date').count().describe().show()"
   ]
  },
  {
   "cell_type": "code",
   "execution_count": 88,
   "metadata": {},
   "outputs": [
    {
     "name": "stdout",
     "output_type": "stream",
     "text": [
      "+-------+------------------+\n",
      "|summary|       count(page)|\n",
      "+-------+------------------+\n",
      "|  count|                30|\n",
      "|   mean|1.0666666666666667|\n",
      "| stddev|0.2537081317024624|\n",
      "|    min|                 1|\n",
      "|    max|                 2|\n",
      "+-------+------------------+\n",
      "\n",
      "+-------+-------------------+\n",
      "|summary|        count(page)|\n",
      "+-------+-------------------+\n",
      "|  count|                200|\n",
      "|   mean|                1.1|\n",
      "| stddev|0.31702131247412063|\n",
      "|    min|                  1|\n",
      "|    max|                  3|\n",
      "+-------+-------------------+\n",
      "\n"
     ]
    }
   ],
   "source": [
    "#number of songs couldn't be played due to errors\n",
    "df.filter((df.page=='Error')&(df.churn_phase==1)).select('userId', 'page', 'ts', 'length')\\\n",
    "    .withColumn('date', get_day(col('ts')))\\\n",
    "    .groupBy('userId', 'date').agg({'page':'count'}).select('count(page)').describe().show()\n",
    "\n",
    "df.filter((df.page=='Error')&(df.churn_phase==0)).select('userId', 'page', 'ts', 'length')\\\n",
    "    .withColumn('date', get_day(col('ts')))\\\n",
    "    .groupBy('userId', 'date').agg({'page':'count'}).select('count(page)').describe().show()"
   ]
  },
  {
   "cell_type": "code",
   "execution_count": 89,
   "metadata": {},
   "outputs": [
    {
     "name": "stdout",
     "output_type": "stream",
     "text": [
      "+-------+-----------------+------------------+\n",
      "|summary|           userId|       count(page)|\n",
      "+-------+-----------------+------------------+\n",
      "|  count|              171|               171|\n",
      "|   mean|62613.21052631579|1.3976608187134503|\n",
      "| stddev| 88778.9002607509|0.8078987426633197|\n",
      "|    min|           100001|                 1|\n",
      "|    max|               87|                 6|\n",
      "+-------+-----------------+------------------+\n",
      "\n",
      "+-------+------------------+------------------+\n",
      "|summary|            userId|       count(page)|\n",
      "+-------+------------------+------------------+\n",
      "|  count|               816|               816|\n",
      "|   mean| 63176.38602941176|1.4889705882352942|\n",
      "| stddev|115512.27837413888|0.8636495080491383|\n",
      "|    min|                10|                 1|\n",
      "|    max|                99|                 8|\n",
      "+-------+------------------+------------------+\n",
      "\n"
     ]
    }
   ],
   "source": [
    "#Number of times user opted for help\n",
    "df.filter((df.page=='Help')&(df.churn_phase==1)).select('userId', 'page', 'ts', 'length')\\\n",
    "    .withColumn('date', get_day(col('ts')))\\\n",
    "    .groupBy('userId', 'date').agg({'page':'count'}).describe().show()\n",
    "\n",
    "df.filter((df.page=='Help')&(df.churn_phase==0)).select('userId', 'page', 'ts', 'length')\\\n",
    "    .withColumn('date', get_day(col('ts')))\\\n",
    "    .groupBy('userId', 'date').agg({'page':'count'}).describe().show()"
   ]
  },
  {
   "cell_type": "code",
   "execution_count": 90,
   "metadata": {},
   "outputs": [
    {
     "name": "stdout",
     "output_type": "stream",
     "text": [
      "31 21\n"
     ]
    }
   ],
   "source": [
    "#Ratio of those who cancelled subscriptions both free and paid\n",
    "print(df.filter((df.page=='Cancellation Confirmation') & (df.level=='paid')).count(),\n",
    "df.filter((df.page=='Cancellation Confirmation') & (df.level=='free')).count())"
   ]
  },
  {
   "cell_type": "code",
   "execution_count": 91,
   "metadata": {},
   "outputs": [
    {
     "name": "stdout",
     "output_type": "stream",
     "text": [
      "49 52\n"
     ]
    }
   ],
   "source": [
    "#Number of users who downgraded & Number of users to cancel\n",
    "print(df.filter(col('downgraded')==1).select('userId').dropDuplicates().count(), \n",
    "      df.filter(col('cancelled')==1).select('userId').dropDuplicates().count())"
   ]
  },
  {
   "cell_type": "code",
   "execution_count": 92,
   "metadata": {},
   "outputs": [
    {
     "data": {
      "text/plain": [
       "9"
      ]
     },
     "execution_count": 92,
     "metadata": {},
     "output_type": "execute_result"
    }
   ],
   "source": [
    "#Users who downgraded and then cancelled\n",
    "df.select(['userId', 'downgraded', 'cancelled'])\\\n",
    "    .groupBy('userId').sum()\\\n",
    "    .withColumnRenamed('sum(downgraded)', 'downgraded')\\\n",
    "    .withColumnRenamed('sum(cancelled)', 'cancelled')\\\n",
    "    .filter((col(\"downgraded\")==1)&(col(\"cancelled\")==1))\\\n",
    "    .count()"
   ]
  },
  {
   "cell_type": "code",
   "execution_count": 93,
   "metadata": {},
   "outputs": [
    {
     "data": {
      "text/plain": [
       "43"
      ]
     },
     "execution_count": 93,
     "metadata": {},
     "output_type": "execute_result"
    }
   ],
   "source": [
    "#Number of users to cancel who downgrade\n",
    "df.select(['userId', 'downgraded', 'cancelled'])\\\n",
    "    .groupBy('userId').sum()\\\n",
    "    .withColumnRenamed('sum(downgraded)', 'downgraded')\\\n",
    "    .withColumnRenamed('sum(cancelled)', 'cancelled')\\\n",
    "    .filter((col(\"downgraded\")==0)&(col(\"cancelled\")==1))\\\n",
    "    .count()"
   ]
  },
  {
   "cell_type": "code",
   "execution_count": 94,
   "metadata": {},
   "outputs": [
    {
     "name": "stdout",
     "output_type": "stream",
     "text": [
      "31\n"
     ]
    }
   ],
   "source": [
    "#Number of paid users to drop without downgrading\n",
    "print(df.filter((col('cancelled')==1) & (col('downgraded')==0) & (col('level')=='paid'))\\\n",
    "      .select('userId').dropDuplicates().count())"
   ]
  },
  {
   "cell_type": "code",
   "execution_count": 95,
   "metadata": {},
   "outputs": [
    {
     "name": "stdout",
     "output_type": "stream",
     "text": [
      "+-----------+\n",
      "|avg(length)|\n",
      "+-----------+\n",
      "|       null|\n",
      "+-----------+\n",
      "\n",
      "+-----------------+\n",
      "|      avg(length)|\n",
      "+-----------------+\n",
      "|249.1171819778458|\n",
      "+-----------------+\n",
      "\n"
     ]
    }
   ],
   "source": [
    "#Those who churn or not have different listening habits?\n",
    "df.filter(col('cancelled')==1).agg({'length':'mean'}).show()\n",
    "df.filter(col('cancelled')==0).agg({'length':'mean'}).show()"
   ]
  },
  {
   "cell_type": "markdown",
   "metadata": {},
   "source": [
    "# Feature Engineering\n",
    "Once you've familiarized yourself with the data, build out the features you find promising to train your model on. To work with the full dataset, you can follow the following steps.\n",
    "- Write a script to extract the necessary features from the smaller subset of data\n",
    "- Ensure that your script is scalable, using the best practices discussed in Lesson 3\n",
    "- Try your script on the full data set, debugging your script if necessary\n",
    "\n",
    "If you are working in the classroom workspace, you can just extract features based on the small subset of data contained here. Be sure to transfer over this work to the larger dataset when you work on your Spark cluster."
   ]
  },
  {
   "cell_type": "code",
   "execution_count": 96,
   "metadata": {},
   "outputs": [],
   "source": [
    "#Load data\n",
    "data_frame = spark.read.json('mini_sparkify_event_data.json')"
   ]
  },
  {
   "cell_type": "code",
   "execution_count": 97,
   "metadata": {},
   "outputs": [],
   "source": [
    "# Remov duplicate and return user\n",
    "def user_info(df):\n",
    "    return df.where((df.userId != \"\") | (df.sessionId != \"\")).select('userId').dropDuplicates()"
   ]
  },
  {
   "cell_type": "code",
   "execution_count": 98,
   "metadata": {},
   "outputs": [
    {
     "name": "stdout",
     "output_type": "stream",
     "text": [
      "+------+\n",
      "|userId|\n",
      "+------+\n",
      "|100010|\n",
      "|200002|\n",
      "|   125|\n",
      "|    51|\n",
      "|   124|\n",
      "|     7|\n",
      "|    54|\n",
      "|    15|\n",
      "|   155|\n",
      "|   132|\n",
      "|   154|\n",
      "|100014|\n",
      "|   101|\n",
      "|    11|\n",
      "|   138|\n",
      "|300017|\n",
      "|    29|\n",
      "|    69|\n",
      "|100021|\n",
      "|    42|\n",
      "+------+\n",
      "only showing top 20 rows\n",
      "\n"
     ]
    }
   ],
   "source": [
    "#Lstdown the userId to merge onto\n",
    "users = user_info(data_frame)\n",
    "users.show()"
   ]
  },
  {
   "cell_type": "code",
   "execution_count": 99,
   "metadata": {},
   "outputs": [],
   "source": [
    "# Return average thumbs up \n",
    "def average_thumbs_up(df):\n",
    "    get_day = udf(lambda x: datetime.datetime.fromtimestamp(x/1000), DateType())\n",
    "    return df.filter(df.page=='Thumbs Up').select('userId', 'page', 'ts')\\\n",
    "                    .withColumn('date', get_day(col('ts'))).groupBy('userId', 'date')\\\n",
    "                    .agg({'page':'count'}).groupBy('userId').mean()\\\n",
    "                    .withColumnRenamed('avg(count(page))', 'avgThumbsUp')"
   ]
  },
  {
   "cell_type": "code",
   "execution_count": 100,
   "metadata": {},
   "outputs": [],
   "source": [
    "#Define windows\n",
    "windowval = Window.partitionBy(\"userId\").orderBy(desc(\"ts\")).rangeBetween(Window.unboundedPreceding, 0)\n",
    "#session = Window.partitionBy(\"userId\", \"sessionId\").orderBy(desc(\"ts\"))\n",
    "daywindow = Window.partitionBy('userId', 'date').orderBy(desc('ts')).rangeBetween(Window.unboundedPreceding, 0)"
   ]
  },
  {
   "cell_type": "code",
   "execution_count": 101,
   "metadata": {},
   "outputs": [
    {
     "name": "stdout",
     "output_type": "stream",
     "text": [
      "+------+------------------+\n",
      "|userId|       avgThumbsUp|\n",
      "+------+------------------+\n",
      "|200002|               3.0|\n",
      "|100010|2.8333333333333335|\n",
      "|    51| 8.333333333333334|\n",
      "|   124| 5.896551724137931|\n",
      "|     7|              1.75|\n",
      "|    15|               5.4|\n",
      "|    54| 6.037037037037037|\n",
      "|   155| 8.285714285714286|\n",
      "|   132| 5.333333333333333|\n",
      "|100014|               3.4|\n",
      "|   154|3.6666666666666665|\n",
      "|    11| 2.857142857142857|\n",
      "|   101| 7.818181818181818|\n",
      "|300017| 7.046511627906977|\n",
      "|   138|            5.9375|\n",
      "|    29|              6.16|\n",
      "|    69|               6.0|\n",
      "|100021|              2.75|\n",
      "|    42| 4.256410256410256|\n",
      "|   112|               1.5|\n",
      "+------+------------------+\n",
      "only showing top 20 rows\n",
      "\n"
     ]
    }
   ],
   "source": [
    "#Average Thumb Up\n",
    "avg_thumbs_up = average_thumbs_up(data_frame)\n",
    "avg_thumbs_up.show()"
   ]
  },
  {
   "cell_type": "code",
   "execution_count": 102,
   "metadata": {},
   "outputs": [],
   "source": [
    "# Return average thumbs down\n",
    "def average_thumbs_down(df):\n",
    "    get_day = udf(lambda x: datetime.datetime.fromtimestamp(x/1000), DateType())\n",
    "    return df.filter(df.page=='Thumbs Down')\\\n",
    "        .select('userId', 'page', 'ts')\\\n",
    "        .withColumn('date', get_day(col('ts')))\\\n",
    "        .groupBy('userId', 'date').agg({'page':'count'})\\\n",
    "        .groupBy('userId').mean()\\\n",
    "        .withColumnRenamed('avg(count(page))', 'avgThumbsDown')"
   ]
  },
  {
   "cell_type": "code",
   "execution_count": 103,
   "metadata": {},
   "outputs": [
    {
     "name": "stdout",
     "output_type": "stream",
     "text": [
      "+------+------------------+\n",
      "|userId|     avgThumbsDown|\n",
      "+------+------------------+\n",
      "|100010|              1.25|\n",
      "|200002|               3.0|\n",
      "|   124|1.8636363636363635|\n",
      "|    51|               2.1|\n",
      "|     7|               1.0|\n",
      "|    15|               1.4|\n",
      "|    54|1.5263157894736843|\n",
      "|   155|               1.0|\n",
      "|   132|               1.7|\n",
      "|100014|               1.0|\n",
      "|    11|1.2857142857142858|\n",
      "|   101|2.2857142857142856|\n",
      "|300017|1.6470588235294117|\n",
      "|   138|2.6666666666666665|\n",
      "|    29|1.4666666666666666|\n",
      "|    69|               1.5|\n",
      "|100021|1.6666666666666667|\n",
      "|    42|1.1904761904761905|\n",
      "|   112|               1.5|\n",
      "|    87|               1.0|\n",
      "+------+------------------+\n",
      "only showing top 20 rows\n",
      "\n"
     ]
    }
   ],
   "source": [
    "# Average Thumbs Down\n",
    "avg_thumbs_down = average_thumbs_down(data_frame)\n",
    "avg_thumbs_down.show()"
   ]
  },
  {
   "cell_type": "code",
   "execution_count": 104,
   "metadata": {},
   "outputs": [],
   "source": [
    "# Return number of friends\n",
    "def number_of_friends(df):\n",
    "    return df.filter(df.page=='Add Friend')\\\n",
    "        .select('userId', 'page')\\\n",
    "        .groupBy('userId').count().withColumnRenamed('count', 'numFriends')"
   ]
  },
  {
   "cell_type": "code",
   "execution_count": 105,
   "metadata": {},
   "outputs": [
    {
     "name": "stdout",
     "output_type": "stream",
     "text": [
      "+------+----------+\n",
      "|userId|numFriends|\n",
      "+------+----------+\n",
      "|100010|         4|\n",
      "|200002|         4|\n",
      "|    51|        28|\n",
      "|   124|        74|\n",
      "|     7|         1|\n",
      "|    54|        33|\n",
      "|    15|        31|\n",
      "|   155|        11|\n",
      "|   132|        41|\n",
      "|   154|         3|\n",
      "|100014|         6|\n",
      "|   101|        29|\n",
      "|    11|         6|\n",
      "|   138|        41|\n",
      "|300017|        63|\n",
      "|    29|        47|\n",
      "|    69|        12|\n",
      "|100021|         7|\n",
      "|    42|        52|\n",
      "|   112|         7|\n",
      "+------+----------+\n",
      "only showing top 20 rows\n",
      "\n"
     ]
    }
   ],
   "source": [
    "# Number of Friends\n",
    "num_friends = number_of_friends(data_frame)\n",
    "num_friends.show()"
   ]
  },
  {
   "cell_type": "code",
   "execution_count": 106,
   "metadata": {},
   "outputs": [],
   "source": [
    "# Return skipped attributes\n",
    "def skipp_attributes(df):\n",
    "    song = udf(lambda x: int(x=='NextSong'), IntegerType())\n",
    "    skipped = udf(lambda x: int(x!=0), IntegerType())\n",
    "    session = Window.partitionBy(\"userId\", \"sessionId\").orderBy(desc(\"ts\"))\n",
    "    return df.select('userId', 'page', 'ts', 'length', 'sessionId', 'itemInSession')\\\n",
    "        .where((df.page != 'Thumbs Up') & (df.page != 'Thumbs Down'))\\\n",
    "        .withColumn('song', song('page')).orderBy('userId', 'sessionId', 'itemInSession')\\\n",
    "        .withColumn('nextActSong', lag(col('song')).over(session))\\\n",
    "        .withColumn('tsDiff', (lag('ts').over(session)-col('ts'))/1000)\\\n",
    "        .withColumn('timeSkipped', (floor('length')-col('tsDiff')))\\\n",
    "        .withColumn('roundedLength', floor('length'))\\\n",
    "        .where((col('song')==1) & ((col('nextActSong')!=0)&(col('timeSkipped')>=0)))\\\n",
    "        .withColumn('skipped', skipped('timeSkipped'))\\\n",
    "        .select('userId', 'timeSkipped', 'skipped', 'length', 'ts', 'tsDiff')\\\n",
    "        .groupBy('userId').agg({'skipped':'avg', 'timeSkipped':'avg'})\\\n",
    "        .withColumnRenamed('avg(skipped)', 'skipRate')\\\n",
    "        .withColumnRenamed('avg(timeSkipped)', 'avgTimeSkipped')"
   ]
  },
  {
   "cell_type": "code",
   "execution_count": 107,
   "metadata": {},
   "outputs": [
    {
     "name": "stdout",
     "output_type": "stream",
     "text": [
      "+------+--------------+--------+\n",
      "|userId|avgTimeSkipped|skipRate|\n",
      "+------+--------------+--------+\n",
      "|100010|           0.0|     0.0|\n",
      "|200002|           0.0|     0.0|\n",
      "|   125|           0.0|     0.0|\n",
      "|    51|           0.0|     0.0|\n",
      "|   124|           0.0|     0.0|\n",
      "|     7|           0.0|     0.0|\n",
      "|    54|           0.0|     0.0|\n",
      "|    15|           0.0|     0.0|\n",
      "|   155|           0.0|     0.0|\n",
      "|100014|           0.0|     0.0|\n",
      "|   132|           0.0|     0.0|\n",
      "|   154|           0.0|     0.0|\n",
      "|   101|           0.0|     0.0|\n",
      "|    11|           0.0|     0.0|\n",
      "|300017|           0.0|     0.0|\n",
      "|   138|           0.0|     0.0|\n",
      "|    29|           0.0|     0.0|\n",
      "|    69|           0.0|     0.0|\n",
      "|100021|           0.0|     0.0|\n",
      "|    42|           0.0|     0.0|\n",
      "+------+--------------+--------+\n",
      "only showing top 20 rows\n",
      "\n"
     ]
    }
   ],
   "source": [
    "#Average timeSkiped skipRate\n",
    "skipping = skipp_attributes(data_frame)\n",
    "skipping.show()"
   ]
  },
  {
   "cell_type": "code",
   "execution_count": 108,
   "metadata": {},
   "outputs": [],
   "source": [
    "# Return who all are regular visiter of help site\n",
    "def daily_visit_help_site(df):\n",
    "    get_day = udf(lambda x: datetime.datetime.fromtimestamp(x/1000), DateType())\n",
    "    home_visit=udf(lambda x : int(x=='Home'), IntegerType())\n",
    "    return df.filter(df.page=='Help')\\\n",
    "        .select('userId', 'page', 'ts', 'length')\\\n",
    "        .withColumn('date', get_day(col('ts')))\\\n",
    "        .groupBy('userId', 'date').agg({'page':'count'})\\\n",
    "        .groupBy('userId').mean()\\\n",
    "         .withColumnRenamed('avg(count(page))', 'dailyHelpVisits')"
   ]
  },
  {
   "cell_type": "code",
   "execution_count": 109,
   "metadata": {},
   "outputs": [
    {
     "name": "stdout",
     "output_type": "stream",
     "text": [
      "+------+------------------+\n",
      "|userId|   dailyHelpVisits|\n",
      "+------+------------------+\n",
      "|100010|               1.0|\n",
      "|200002|               1.0|\n",
      "|   124|            1.4375|\n",
      "|     7|               1.0|\n",
      "|    51|1.7142857142857142|\n",
      "|    54|1.1333333333333333|\n",
      "|    15|1.1428571428571428|\n",
      "|   155|               1.8|\n",
      "|   132|1.7777777777777777|\n",
      "|100014|               1.0|\n",
      "|   154|               1.0|\n",
      "|   101|1.7142857142857142|\n",
      "|    11|               1.5|\n",
      "|300017|              1.35|\n",
      "|   138|1.8571428571428572|\n",
      "|    29|1.5555555555555556|\n",
      "|    69|2.3333333333333335|\n",
      "|    42|1.1764705882352942|\n",
      "|   112|               1.0|\n",
      "|    87|               1.6|\n",
      "+------+------------------+\n",
      "only showing top 20 rows\n",
      "\n"
     ]
    }
   ],
   "source": [
    "#Avg daily visits to help site\n",
    "daily_help_visit = daily_visit_help_site(data_frame)\n",
    "daily_help_visit.show()"
   ]
  },
  {
   "cell_type": "code",
   "execution_count": 110,
   "metadata": {},
   "outputs": [],
   "source": [
    "# Return daily error\n",
    "def get_daily_error(df):\n",
    "    get_day = udf(lambda x: datetime.datetime.fromtimestamp(x/1000), DateType())\n",
    "    return df.filter(df.page=='Error')\\\n",
    "        .select('userId', 'page', 'ts', 'length')\\\n",
    "        .withColumn('date', get_day(col('ts')))\\\n",
    "        .groupBy('userId', 'date').agg({'page':'count'})\\\n",
    "        .groupBy('userId').mean()\\\n",
    "        .withColumnRenamed('avg(count(page))', 'dailyErrors')"
   ]
  },
  {
   "cell_type": "code",
   "execution_count": 111,
   "metadata": {},
   "outputs": [
    {
     "name": "stdout",
     "output_type": "stream",
     "text": [
      "+------+------------------+\n",
      "|userId|       dailyErrors|\n",
      "+------+------------------+\n",
      "|   124|               1.2|\n",
      "|     7|               1.0|\n",
      "|    51|               1.0|\n",
      "|    15|               1.0|\n",
      "|    54|               1.0|\n",
      "|   155|               1.0|\n",
      "|   132|               1.0|\n",
      "|   101|               1.5|\n",
      "|    11|               1.0|\n",
      "|300017|              1.25|\n",
      "|   138|               1.0|\n",
      "|    69|1.3333333333333333|\n",
      "|100021|               1.0|\n",
      "|    42|               1.0|\n",
      "|    73|               1.0|\n",
      "|200010|               1.0|\n",
      "|   113|               1.0|\n",
      "|    30|               1.0|\n",
      "|    59|               2.0|\n",
      "|   139|               1.0|\n",
      "+------+------------------+\n",
      "only showing top 20 rows\n",
      "\n"
     ]
    }
   ],
   "source": [
    "#Shows daily error\n",
    "daily_errors = get_daily_error(data_frame)\n",
    "daily_errors.show()"
   ]
  },
  {
   "cell_type": "code",
   "execution_count": 112,
   "metadata": {},
   "outputs": [],
   "source": [
    "# Return churn\n",
    "def churn_user(df):\n",
    "    #Define custom functions\n",
    "    churn = udf(lambda x: int(x==\"Cancellation Confirmation\"), IntegerType())\n",
    "    downgrade_churn = udf(lambda x: int(x==\"Submit Downgrade\"), IntegerType())\n",
    "    visited_downgrade = udf(lambda x: int(x=='Downgrade'), IntegerType())\n",
    "    visited_cancel = udf(lambda x: int(x=='Cancel'), IntegerType())\n",
    "    \n",
    "    return df.withColumn(\"downgraded\", downgrade_churn(\"page\"))\\\n",
    "        .withColumn(\"cancelled\", churn(\"page\"))\\\n",
    "        .withColumn('visited_cancel', visited_cancel('page'))\\\n",
    "        .withColumn('visited_downgrade', visited_downgrade('page'))\\\n",
    "        .select(['userId', 'downgraded', 'cancelled', 'visited_cancel', 'visited_downgrade'])\\\n",
    "        .groupBy('userId').sum()\\\n",
    "        .withColumnRenamed('sum(downgraded)', 'downgraded')\\\n",
    "        .withColumnRenamed('sum(cancelled)', 'cancelled')\\\n",
    "        .withColumnRenamed('sum(visited_cancel)', 'visited_cancel')\\\n",
    "        .withColumnRenamed('sum(visited_downgrade)', 'visited_downgrade')\n",
    "\n",
    "    "
   ]
  },
  {
   "cell_type": "code",
   "execution_count": 113,
   "metadata": {},
   "outputs": [
    {
     "name": "stdout",
     "output_type": "stream",
     "text": [
      "+------+----------+---------+--------------+-----------------+\n",
      "|userId|downgraded|cancelled|visited_cancel|visited_downgrade|\n",
      "+------+----------+---------+--------------+-----------------+\n",
      "|100010|         0|        0|             0|                0|\n",
      "|200002|         0|        0|             0|                5|\n",
      "|   125|         0|        1|             1|                0|\n",
      "|    51|         0|        1|             1|               23|\n",
      "|   124|         0|        0|             0|               41|\n",
      "|     7|         0|        0|             0|                0|\n",
      "|    54|         1|        1|             1|               39|\n",
      "|    15|         0|        0|             0|               28|\n",
      "|   155|         0|        0|             0|               12|\n",
      "|   132|         0|        0|             0|               19|\n",
      "|   154|         0|        0|             0|                0|\n",
      "|100014|         0|        1|             1|                3|\n",
      "|   101|         0|        1|             1|               22|\n",
      "|    11|         1|        0|             0|                5|\n",
      "|   138|         0|        0|             0|               21|\n",
      "|300017|         0|        0|             0|               25|\n",
      "|    29|         0|        1|             1|               18|\n",
      "|    69|         0|        0|             0|                9|\n",
      "|100021|         0|        1|             1|                0|\n",
      "|    42|         0|        0|             0|               37|\n",
      "+------+----------+---------+--------------+-----------------+\n",
      "only showing top 20 rows\n",
      "\n"
     ]
    }
   ],
   "source": [
    "#Whether a user has downgraded\n",
    "churn = churn_user(data_frame)\n",
    "churn.show()"
   ]
  },
  {
   "cell_type": "code",
   "execution_count": 114,
   "metadata": {},
   "outputs": [],
   "source": [
    "# Return user level\n",
    "def get_user_level(df):\n",
    "    free = udf(lambda x: int(x=='free'), IntegerType())\n",
    "    paid = udf(lambda x: int(x=='paid'), IntegerType())\n",
    "    return df.select('userId', 'level')\\\n",
    "        .where((df.level=='free')|(df.level=='paid'))\\\n",
    "        .dropDuplicates()\\\n",
    "        .withColumn('free', free('level'))\\\n",
    "        .withColumn('paid', paid('level')).drop('level')\n",
    "\n",
    "    "
   ]
  },
  {
   "cell_type": "code",
   "execution_count": 115,
   "metadata": {},
   "outputs": [
    {
     "name": "stdout",
     "output_type": "stream",
     "text": [
      "+------+----+----+\n",
      "|userId|free|paid|\n",
      "+------+----+----+\n",
      "|100021|   1|   0|\n",
      "|200021|   1|   0|\n",
      "|200001|   1|   0|\n",
      "|     6|   1|   0|\n",
      "|300022|   0|   1|\n",
      "|   132|   1|   0|\n",
      "|   112|   1|   0|\n",
      "|    79|   1|   0|\n",
      "|200008|   1|   0|\n",
      "|    16|   0|   1|\n",
      "|200007|   0|   1|\n",
      "|300015|   1|   0|\n",
      "|    39|   1|   0|\n",
      "|300014|   0|   1|\n",
      "|    61|   1|   0|\n",
      "|    56|   0|   1|\n",
      "|300014|   1|   0|\n",
      "|   100|   0|   1|\n",
      "|300024|   0|   1|\n",
      "|300023|   0|   1|\n",
      "+------+----+----+\n",
      "only showing top 20 rows\n",
      "\n"
     ]
    }
   ],
   "source": [
    "#shows use categories\n",
    "user_level = get_user_level(data_frame)\n",
    "user_level.show()"
   ]
  },
  {
   "cell_type": "code",
   "execution_count": 116,
   "metadata": {},
   "outputs": [],
   "source": [
    "# Return cusum\n",
    "def get_cusum(df):\n",
    "    windowval = Window.partitionBy(\"userId\").orderBy(desc(\"ts\")).rangeBetween(Window.unboundedPreceding, 0)\n",
    "    return df.filter((df.page == 'NextSong') | (df.page == 'Home')) \\\n",
    "        .select('userID', 'page', 'ts') \\\n",
    "        .withColumn('homevisit', home_visit(col('page'))) \\\n",
    "        .withColumn('songPeriod', Fsum('homevisit').over(windowval))\\\n",
    "    \n",
    "   "
   ]
  },
  {
   "cell_type": "code",
   "execution_count": 117,
   "metadata": {},
   "outputs": [],
   "source": [
    "# Return average songs till home\n",
    "def average_songs_till_home(cusum):\n",
    "    return cusum.filter((cusum.page=='NextSong'))\\\n",
    "        .groupBy('userId', 'songPeriod')\\\n",
    "        .agg({'songPeriod':'count'}).drop('songPeriod')\\\n",
    "        .groupby('userId').mean()\\\n",
    "        .withColumnRenamed('avg(count(songPeriod))', 'avgSongsTillHome')"
   ]
  },
  {
   "cell_type": "code",
   "execution_count": 118,
   "metadata": {},
   "outputs": [
    {
     "name": "stdout",
     "output_type": "stream",
     "text": [
      "+------+------------------+\n",
      "|userId|  avgSongsTillHome|\n",
      "+------+------------------+\n",
      "|100010|22.916666666666668|\n",
      "|200002|             19.35|\n",
      "|   125|               8.0|\n",
      "|   124|  24.4251497005988|\n",
      "|    51|29.319444444444443|\n",
      "|     7|13.636363636363637|\n",
      "|    15|21.266666666666666|\n",
      "|    54| 24.92105263157895|\n",
      "|   155|29.285714285714285|\n",
      "|100014|            32.125|\n",
      "|   132| 24.71794871794872|\n",
      "|   154|              14.0|\n",
      "|   101|24.958333333333332|\n",
      "|    11|17.486486486486488|\n",
      "|   138|30.895522388059703|\n",
      "|300017| 24.54054054054054|\n",
      "|100021|            14.375|\n",
      "|    29|25.233333333333334|\n",
      "|    69|           23.4375|\n",
      "|   112| 16.53846153846154|\n",
      "+------+------------------+\n",
      "only showing top 20 rows\n",
      "\n"
     ]
    }
   ],
   "source": [
    "#Average songs till in home page\n",
    "cusum = get_cusum(data_frame)\n",
    "avg_songs_till_home = average_songs_till_home(cusum)\n",
    "avg_songs_till_home.show()"
   ]
  },
  {
   "cell_type": "code",
   "execution_count": 119,
   "metadata": {},
   "outputs": [
    {
     "name": "stdout",
     "output_type": "stream",
     "text": [
      "+------+----------+---------+--------------+-----------------+------------------+------------------+----+----+-----------------+------------------+----------+------------------+--------------+--------+\n",
      "|userId|downgraded|cancelled|visited_cancel|visited_downgrade|   dailyHelpVisits|       dailyErrors|free|paid|      avgThumbsUp|     avgThumbsDown|numFriends|  avgSongsTillHome|avgTimeSkipped|skipRate|\n",
      "+------+----------+---------+--------------+-----------------+------------------+------------------+----+----+-----------------+------------------+----------+------------------+--------------+--------+\n",
      "|   124|         0|        0|             0|               41|            1.4375|               1.2|   0|   1|5.896551724137931|1.8636363636363635|        74|  24.4251497005988|           0.0|     0.0|\n",
      "|    51|         0|        1|             1|               23|1.7142857142857142|               1.0|   0|   1|8.333333333333334|               2.1|        28|29.319444444444443|           0.0|     0.0|\n",
      "|     7|         0|        0|             0|                0|               1.0|               1.0|   1|   0|             1.75|               1.0|         1|13.636363636363637|           0.0|     0.0|\n",
      "|    15|         0|        0|             0|               28|1.1428571428571428|               1.0|   0|   1|              5.4|               1.4|        31|21.266666666666666|           0.0|     0.0|\n",
      "|    54|         1|        1|             1|               39|1.1333333333333333|               1.0|   1|   0|6.037037037037037|1.5263157894736843|        33| 24.92105263157895|           0.0|     0.0|\n",
      "|    54|         1|        1|             1|               39|1.1333333333333333|               1.0|   0|   1|6.037037037037037|1.5263157894736843|        33| 24.92105263157895|           0.0|     0.0|\n",
      "|   155|         0|        0|             0|               12|               1.8|               1.0|   1|   0|8.285714285714286|               1.0|        11|29.285714285714285|           0.0|     0.0|\n",
      "|   155|         0|        0|             0|               12|               1.8|               1.0|   0|   1|8.285714285714286|               1.0|        11|29.285714285714285|           0.0|     0.0|\n",
      "|   132|         0|        0|             0|               19|1.7777777777777777|               1.0|   1|   0|5.333333333333333|               1.7|        41| 24.71794871794872|           0.0|     0.0|\n",
      "|   132|         0|        0|             0|               19|1.7777777777777777|               1.0|   0|   1|5.333333333333333|               1.7|        41| 24.71794871794872|           0.0|     0.0|\n",
      "|   101|         0|        1|             1|               22|1.7142857142857142|               1.5|   1|   0|7.818181818181818|2.2857142857142856|        29|24.958333333333332|           0.0|     0.0|\n",
      "|   101|         0|        1|             1|               22|1.7142857142857142|               1.5|   0|   1|7.818181818181818|2.2857142857142856|        29|24.958333333333332|           0.0|     0.0|\n",
      "|    11|         1|        0|             0|                5|               1.5|               1.0|   1|   0|2.857142857142857|1.2857142857142858|         6|17.486486486486488|           0.0|     0.0|\n",
      "|    11|         1|        0|             0|                5|               1.5|               1.0|   0|   1|2.857142857142857|1.2857142857142858|         6|17.486486486486488|           0.0|     0.0|\n",
      "|   138|         0|        0|             0|               21|1.8571428571428572|               1.0|   1|   0|           5.9375|2.6666666666666665|        41|30.895522388059703|           0.0|     0.0|\n",
      "|   138|         0|        0|             0|               21|1.8571428571428572|               1.0|   0|   1|           5.9375|2.6666666666666665|        41|30.895522388059703|           0.0|     0.0|\n",
      "|300017|         0|        0|             0|               25|              1.35|              1.25|   0|   1|7.046511627906977|1.6470588235294117|        63| 24.54054054054054|           0.0|     0.0|\n",
      "|    69|         0|        0|             0|                9|2.3333333333333335|1.3333333333333333|   1|   0|              6.0|               1.5|        12|           23.4375|           0.0|     0.0|\n",
      "|    69|         0|        0|             0|                9|2.3333333333333335|1.3333333333333333|   0|   1|              6.0|               1.5|        12|           23.4375|           0.0|     0.0|\n",
      "|    42|         0|        0|             0|               37|1.1764705882352942|               1.0|   1|   0|4.256410256410256|1.1904761904761905|        52|21.786585365853657|           0.0|     0.0|\n",
      "+------+----------+---------+--------------+-----------------+------------------+------------------+----+----+-----------------+------------------+----------+------------------+--------------+--------+\n",
      "only showing top 20 rows\n",
      "\n"
     ]
    }
   ],
   "source": [
    "#Create necessary features to use machine learning algorithms    \n",
    "df = users.join(churn, on='userId')\\\n",
    "    .join(daily_help_visit, on='userId')\\\n",
    "    .join(daily_errors, on='userId')\\\n",
    "    .join(user_level, on='userId')\\\n",
    "    .join(avg_thumbs_up, on='userId')\\\n",
    "    .join(avg_thumbs_down, on='userId')\\\n",
    "    .join(num_friends, on='userId')\\\n",
    "    .join(avg_songs_till_home, on='userId')\\\n",
    "    .join(skipping, on='userId') \n",
    "df.show()"
   ]
  },
  {
   "cell_type": "code",
   "execution_count": 120,
   "metadata": {},
   "outputs": [
    {
     "name": "stdout",
     "output_type": "stream",
     "text": [
      "root\n",
      " |-- userId: string (nullable = true)\n",
      " |-- downgraded: long (nullable = true)\n",
      " |-- cancelled: long (nullable = true)\n",
      " |-- visited_cancel: long (nullable = true)\n",
      " |-- visited_downgrade: long (nullable = true)\n",
      " |-- dailyHelpVisits: double (nullable = true)\n",
      " |-- dailyErrors: double (nullable = true)\n",
      " |-- free: integer (nullable = true)\n",
      " |-- paid: integer (nullable = true)\n",
      " |-- avgThumbsUp: double (nullable = true)\n",
      " |-- avgThumbsDown: double (nullable = true)\n",
      " |-- numFriends: long (nullable = false)\n",
      " |-- avgSongsTillHome: double (nullable = true)\n",
      " |-- avgTimeSkipped: double (nullable = true)\n",
      " |-- skipRate: double (nullable = true)\n",
      "\n"
     ]
    }
   ],
   "source": [
    "df.printSchema()"
   ]
  },
  {
   "cell_type": "markdown",
   "metadata": {},
   "source": [
    "### How to create necessary features to use machine learning algorithms?"
   ]
  },
  {
   "cell_type": "markdown",
   "metadata": {},
   "source": [
    "In above code segment I have created necessary features to use machine learning algorithms.\n",
    "    \n",
    "#### Inputs:\n",
    "Loads data set from mini_sparkify_event_data.json file   \n",
    "#### Outputs:\n",
    "Engineered dataset for machine learning algorithm    \n",
    "#### Resulting data frame Structure:    \n",
    "    root\n",
    "     |-- userId: string (nullable = true)\n",
    "     |-- downgraded: long (nullable = true)\n",
    "     |-- cancelled: long (nullable = true)\n",
    "     |-- visited_cancel: long (nullable = true)\n",
    "     |-- visited_downgrade: long (nullable = true)\n",
    "     |-- dailyHelpVisits: double (nullable = true)\n",
    "     |-- dailyErrors: double (nullable = true)\n",
    "     |-- free: integer (nullable = true)\n",
    "     |-- paid: integer (nullable = true)\n",
    "     |-- avgThumbsUp: double (nullable = true)\n",
    "     |-- avgThumbsDown: double (nullable = true)\n",
    "     |-- numFriends: long (nullable = false)\n",
    "     |-- avgSongsTillHome: double (nullable = true)\n",
    "     |-- avgTimeSkipped: double (nullable = true)\n",
    "     |-- skipRate: double (nullable = true)\n",
    "\n",
    "\n",
    "### Steps to prepare data set for machine learning algorithm\n",
    "The steps mainly involved to skip attributes which are not necessary to created data set for machine learning algorithm\n",
    "\n",
    "1. Not include thumbs up and down pages because that usually occurs while playing and does not change song\n",
    "2. Create variable for if action is song\n",
    "3. Check if next action is song - this will check to see if someone is skipping song or just leaving page\n",
    "4. Get the difference in timestamp for next action song playing\n",
    "5. Subtract the difference in timestamp from song length to see how much of song was skipped\n",
    "6. Get descriptive stats\n"
   ]
  },
  {
   "cell_type": "code",
   "execution_count": 121,
   "metadata": {},
   "outputs": [],
   "source": [
    "def feature_scaling(df):\n",
    "    feature_cols = df.drop('userId', 'cancelled').columns\n",
    "    assembler = VectorAssembler(inputCols=feature_cols,\\\n",
    "                                outputCol='feature_vec')\n",
    "    \n",
    "    #Pyspark.ml expects target column to be names: 'labelCol', type: Double\n",
    "    df = df.withColumn(\"label\", df[\"cancelled\"].cast(DoubleType()))\n",
    "    \n",
    "    #Pyspark default name for features vector column: 'featuresCol'\n",
    "    minmaxscaler = MinMaxScaler(inputCol=\"feature_vec\", outputCol=\"features\")\n",
    "    \n",
    "    df = assembler.transform(df)\n",
    "    minmaxscaler_model = minmaxscaler.fit(df)\n",
    "    scaled_df = minmaxscaler_model.transform(df)\n",
    "    return scaled_df"
   ]
  },
  {
   "cell_type": "markdown",
   "metadata": {},
   "source": [
    "# Modeling\n",
    "Split the full dataset into train, test, and validation sets. Test out several of the machine learning methods you learned. Evaluate the accuracy of the various models, tuning parameters as necessary. Determine your winning model based on test accuracy and report results on the validation set. Since the churned users are a fairly small subset, I suggest using F1 score as the metric to optimize."
   ]
  },
  {
   "cell_type": "code",
   "execution_count": 122,
   "metadata": {},
   "outputs": [
    {
     "data": {
      "text/plain": [
       "DataFrame[userId: string, downgraded: bigint, cancelled: bigint, visited_cancel: bigint, visited_downgrade: bigint, dailyHelpVisits: double, dailyErrors: double, free: int, paid: int, avgThumbsUp: double, avgThumbsDown: double, numFriends: bigint, avgSongsTillHome: double, avgTimeSkipped: double, skipRate: double, label: double, feature_vec: vector, features: vector]"
      ]
     },
     "execution_count": 122,
     "metadata": {},
     "output_type": "execute_result"
    }
   ],
   "source": [
    "#data_small = df\n",
    "data_small = feature_scaling(df)\n",
    "data_small.persist()"
   ]
  },
  {
   "cell_type": "code",
   "execution_count": 123,
   "metadata": {},
   "outputs": [
    {
     "data": {
      "text/plain": [
       "[Row(userId='124', downgraded=0, cancelled=0, visited_cancel=0, visited_downgrade=41, dailyHelpVisits=1.4375, dailyErrors=1.2, free=0, paid=1, avgThumbsUp=5.896551724137931, avgThumbsDown=1.8636363636363635, numFriends=74, avgSongsTillHome=24.4251497005988, avgTimeSkipped=0.0, skipRate=0.0, label=0.0, feature_vec=DenseVector([0.0, 0.0, 41.0, 1.4375, 1.2, 0.0, 1.0, 5.8966, 1.8636, 74.0, 24.4251, 0.0, 0.0]), features=DenseVector([0.0, 0.0, 0.5616, 0.1458, 0.2, 0.0, 1.0, 0.5494, 0.2879, 0.5141, 0.5035, 0.5, 0.5]))]"
      ]
     },
     "execution_count": 123,
     "metadata": {},
     "output_type": "execute_result"
    }
   ],
   "source": [
    "data_small.take(1)"
   ]
  },
  {
   "cell_type": "code",
   "execution_count": 124,
   "metadata": {},
   "outputs": [],
   "source": [
    "train, rest = data_small.randomSplit([0.85, 0.15], seed=42)\n",
    "validation, test = rest.randomSplit([0.5,0.5], seed=42)"
   ]
  },
  {
   "cell_type": "code",
   "execution_count": 125,
   "metadata": {},
   "outputs": [],
   "source": [
    "pr = BinaryClassificationEvaluator(metricName='areaUnderPR')\n",
    "roc = BinaryClassificationEvaluator(metricName='areaUnderROC')"
   ]
  },
  {
   "cell_type": "code",
   "execution_count": 126,
   "metadata": {},
   "outputs": [],
   "source": [
    "\n",
    "def custom_evaluation(pred, model_name):\n",
    "    '''\n",
    "    Perform custom evaluation of predictions\n",
    "    \n",
    "    1. Inspect with PySpark.ML evaluator will use for pipeline\n",
    "    2. Use RDD-API; PySpark.MLLib to get metrics based on predictions \n",
    "    3. Display confusion matrix\n",
    "    \n",
    "    Inputs:\n",
    "        preds PySpark.ml.DataFrame - predictions from model\n",
    "    '''\n",
    "    pr = BinaryClassificationEvaluator(metricName='areaUnderPR')    \n",
    "    pr_auc=pr.evaluate(pred)    \n",
    "    print(f\"{model_name} -> PR AUC: {pr_auc}\")\n",
    "    predictionRDD = pred.select(['label', 'prediction']).rdd\\\n",
    "                        .map(lambda line: (line[1], line[0]))\n",
    "    metrics = MulticlassMetrics(predictionRDD)\n",
    "\n",
    "    print(f\"{model_name}\\n | precision = {metrics.precision()}\")\n",
    "    print(f\" | recall = {metrics.recall()}\\n | F1-Score = {metrics.fMeasure()}\")\n",
    "    \n",
    "    conf_matrix = metrics.confusionMatrix().toArray()\n",
    "    sns.set(font_scale=1.4)#for label size\n",
    "    ax = sns.heatmap(conf_matrix, annot=True,annot_kws={\"size\": 16})\n",
    "    ax.set(xlabel='Predicted Label', ylabel='True Label', title='Confusion Mtx')\n",
    "    plt.show()"
   ]
  },
  {
   "cell_type": "code",
   "execution_count": 127,
   "metadata": {},
   "outputs": [
    {
     "name": "stdout",
     "output_type": "stream",
     "text": [
      "Random Forest -> PR AUC: 1.0\n",
      "Random Forest\n",
      " | precision = 1.0\n",
      " | recall = 1.0\n",
      " | F1-Score = 1.0\n"
     ]
    },
    {
     "data": {
      "image/png": "[encoded data removed]",
      "text/plain": [
       "<matplotlib.figure.Figure at 0x7f68e6901860>"
      ]
     },
     "metadata": {},
     "output_type": "display_data"
    }
   ],
   "source": [
    "#Random forest classifier model\n",
    "rando_forest = RandomForestClassifier(numTrees=10)\n",
    "rando_forest_model = rando_forest.fit(train)\n",
    "rando_forest_preds = rando_forest_model.transform(validation)\n",
    "custom_evaluation(rando_forest_preds, 'Random Forest')"
   ]
  },
  {
   "cell_type": "code",
   "execution_count": 128,
   "metadata": {},
   "outputs": [
    {
     "name": "stdout",
     "output_type": "stream",
     "text": [
      "Gradient Boosted Trees -> PR AUC: 1.0\n",
      "Gradient Boosted Trees\n",
      " | precision = 1.0\n",
      " | recall = 1.0\n",
      " | F1-Score = 1.0\n"
     ]
    },
    {
     "data": {
      "image/png": "[encoded data removed]",
      "text/plain": [
       "<matplotlib.figure.Figure at 0x7f68e61826d8>"
      ]
     },
     "metadata": {},
     "output_type": "display_data"
    }
   ],
   "source": [
    "#Gradient boosted trees (ie ada boost)\n",
    "gbtrees = GBTClassifier(maxIter=10)\n",
    "gbtree_model = gbtrees.fit(train)\n",
    "gbtree_preds = gbtree_model.transform(validation)\n",
    "custom_evaluation(gbtree_preds, 'Gradient Boosted Trees')"
   ]
  },
  {
   "cell_type": "code",
   "execution_count": 129,
   "metadata": {},
   "outputs": [
    {
     "name": "stdout",
     "output_type": "stream",
     "text": [
      "Support Vector Machine -> PR AUC: 1.0\n",
      "Support Vector Machine\n",
      " | precision = 1.0\n",
      " | recall = 1.0\n",
      " | F1-Score = 1.0\n"
     ]
    },
    {
     "data": {
      "image/png": "[encoded data removed]",
      "text/plain": [
       "<matplotlib.figure.Figure at 0x7f68e607b860>"
      ]
     },
     "metadata": {},
     "output_type": "display_data"
    }
   ],
   "source": [
    "#SVM\n",
    "svm = LinearSVC(maxIter=10, regParam=0.1)\n",
    "svm_model=svm.fit(train)\n",
    "svm_preds=svm_model.transform(validation)\n",
    "custom_evaluation(svm_preds, 'Support Vector Machine')"
   ]
  },
  {
   "cell_type": "code",
   "execution_count": 130,
   "metadata": {},
   "outputs": [
    {
     "name": "stdout",
     "output_type": "stream",
     "text": [
      "Logistic Regression -> PR AUC: 1.0\n",
      "Logistic Regression\n",
      " | precision = 0.4\n",
      " | recall = 0.4\n",
      " | F1-Score = 0.4\n"
     ]
    },
    {
     "data": {
      "image/png": "[encoded data removed]",
      "text/plain": [
       "<matplotlib.figure.Figure at 0x7f68e6178320>"
      ]
     },
     "metadata": {},
     "output_type": "display_data"
    }
   ],
   "source": [
    "#Logistic regression model\n",
    "logReg = LogisticRegression(maxIter=10, regParam=0.3, elasticNetParam=0.8)\n",
    "lrModel = logReg.fit(train)\n",
    "lr_preds = lrModel.transform(validation)\n",
    "custom_evaluation(lr_preds, 'Logistic Regression')"
   ]
  },
  {
   "cell_type": "code",
   "execution_count": 131,
   "metadata": {},
   "outputs": [
    {
     "name": "stdout",
     "output_type": "stream",
     "text": [
      "+--------------------+--------------------+----------+-----+\n",
      "|            features|       rawPrediction|prediction|label|\n",
      "+--------------------+--------------------+----------+-----+\n",
      "|[0.0,1.0,0.315068...|[-0.9771510091968...|       1.0|  1.0|\n",
      "|[0.33333333333333...|[-1.4067021398948...|       1.0|  1.0|\n",
      "|[0.0,1.0,0.054794...|[-1.6442177020221...|       1.0|  1.0|\n",
      "|[0.33333333333333...|[1.45283571752417...|       0.0|  0.0|\n",
      "|[0.0,0.0,0.082191...|[1.13995243762261...|       0.0|  0.0|\n",
      "+--------------------+--------------------+----------+-----+\n",
      "\n",
      "+--------------------+--------------------+----------+-----+\n",
      "|            features|       rawPrediction|prediction|label|\n",
      "+--------------------+--------------------+----------+-----+\n",
      "|[0.0,1.0,0.315068...|[0.29836075425595...|       0.0|  1.0|\n",
      "|[0.33333333333333...|[0.29836075425595...|       0.0|  1.0|\n",
      "|[0.0,1.0,0.054794...|[0.29836075425595...|       0.0|  1.0|\n",
      "|[0.33333333333333...|[1.86307471057955...|       0.0|  0.0|\n",
      "|[0.0,0.0,0.082191...|[1.86307471057955...|       0.0|  0.0|\n",
      "+--------------------+--------------------+----------+-----+\n",
      "\n",
      "+--------------------+--------------------+----------+-----+\n",
      "|            features|       rawPrediction|prediction|label|\n",
      "+--------------------+--------------------+----------+-----+\n",
      "|[0.0,1.0,0.315068...|[-1.3259026792203...|       1.0|  1.0|\n",
      "|[0.33333333333333...|[-1.3259026792203...|       1.0|  1.0|\n",
      "|[0.0,1.0,0.054794...|[-1.3259026792203...|       1.0|  1.0|\n",
      "|[0.33333333333333...|[1.32590267922033...|       0.0|  0.0|\n",
      "|[0.0,0.0,0.082191...|[1.32590267922033...|       0.0|  0.0|\n",
      "+--------------------+--------------------+----------+-----+\n",
      "\n",
      "+--------------------+--------------------+----------+-----+\n",
      "|            features|       rawPrediction|prediction|label|\n",
      "+--------------------+--------------------+----------+-----+\n",
      "|[0.0,1.0,0.315068...|[0.98214285714285...|       1.0|  1.0|\n",
      "|[0.33333333333333...|          [0.0,10.0]|       1.0|  1.0|\n",
      "|[0.0,1.0,0.054794...|          [0.0,10.0]|       1.0|  1.0|\n",
      "|[0.33333333333333...|[8.98214285714285...|       0.0|  0.0|\n",
      "|[0.0,0.0,0.082191...|[9.98214285714285...|       0.0|  0.0|\n",
      "+--------------------+--------------------+----------+-----+\n",
      "\n"
     ]
    }
   ],
   "source": [
    "#Visual check for predictions\n",
    "for x in [svm_preds, lr_preds, gbtree_preds, rando_forest_preds]:\n",
    "    x.select('features', 'rawPrediction', 'prediction', 'label').show()"
   ]
  },
  {
   "cell_type": "code",
   "execution_count": 132,
   "metadata": {},
   "outputs": [
    {
     "name": "stdout",
     "output_type": "stream",
     "text": [
      "DataFrame[userId: string, downgraded: bigint, cancelled: bigint, visited_cancel: bigint, visited_downgrade: bigint, dailyHelpVisits: double, dailyErrors: double, free: int, paid: int, avgThumbsUp: double, avgThumbsDown: double, numFriends: bigint, avgSongsTillHome: double, avgTimeSkipped: double, skipRate: double, label: double, feature_vec: vector, features: vector, rawPrediction: vector, prediction: double] 1.0\n",
      "DataFrame[userId: string, downgraded: bigint, cancelled: bigint, visited_cancel: bigint, visited_downgrade: bigint, dailyHelpVisits: double, dailyErrors: double, free: int, paid: int, avgThumbsUp: double, avgThumbsDown: double, numFriends: bigint, avgSongsTillHome: double, avgTimeSkipped: double, skipRate: double, label: double, feature_vec: vector, features: vector, rawPrediction: vector, probability: vector, prediction: double] 1.0\n",
      "DataFrame[userId: string, downgraded: bigint, cancelled: bigint, visited_cancel: bigint, visited_downgrade: bigint, dailyHelpVisits: double, dailyErrors: double, free: int, paid: int, avgThumbsUp: double, avgThumbsDown: double, numFriends: bigint, avgSongsTillHome: double, avgTimeSkipped: double, skipRate: double, label: double, feature_vec: vector, features: vector, rawPrediction: vector, probability: vector, prediction: double] 1.0\n",
      "DataFrame[userId: string, downgraded: bigint, cancelled: bigint, visited_cancel: bigint, visited_downgrade: bigint, dailyHelpVisits: double, dailyErrors: double, free: int, paid: int, avgThumbsUp: double, avgThumbsDown: double, numFriends: bigint, avgSongsTillHome: double, avgTimeSkipped: double, skipRate: double, label: double, feature_vec: vector, features: vector, rawPrediction: vector, probability: vector, prediction: double] 1.0\n"
     ]
    }
   ],
   "source": [
    "# Evaluate model\n",
    "evaluator = BinaryClassificationEvaluator(rawPredictionCol=\"rawPrediction\", metricName = 'areaUnderPR')\n",
    "for x in [svm_preds, lr_preds, gbtree_preds, rando_forest_preds]:\n",
    "    print(x,evaluator.evaluate(x))"
   ]
  },
  {
   "cell_type": "markdown",
   "metadata": {},
   "source": [
    "# Final Steps\n",
    "Clean up your code, adding comments and renaming variables to make the code easier to read and maintain. Refer to the Spark Project Overview page and Data Scientist Capstone Project Rubric to make sure you are including all components of the capstone project and meet all expectations. Remember, this includes thorough documentation in a README file in a Github repository, as well as a web app or blog post."
   ]
  },
  {
   "cell_type": "code",
   "execution_count": null,
   "metadata": {},
   "outputs": [],
   "source": []
  }
 ],
 "metadata": {
  "kernelspec": {
   "display_name": "Python 3",
   "language": "python",
   "name": "python3"
  },
  "language_info": {
   "codemirror_mode": {
    "name": "ipython",
    "version": 3
   },
   "file_extension": ".py",
   "mimetype": "text/x-python",
   "name": "python",
   "nbconvert_exporter": "python",
   "pygments_lexer": "ipython3",
   "version": "3.6.3"
  }
 },
 "nbformat": 4,
 "nbformat_minor": 2
}
